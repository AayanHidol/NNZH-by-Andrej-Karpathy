{
  "nbformat": 4,
  "nbformat_minor": 0,
  "metadata": {
    "colab": {
      "provenance": [],
      "authorship_tag": "ABX9TyPYjwZfNxzaIeDJJ616rJcD",
      "include_colab_link": true
    },
    "kernelspec": {
      "name": "python3",
      "display_name": "Python 3"
    },
    "language_info": {
      "name": "python"
    }
  },
  "cells": [
    {
      "cell_type": "markdown",
      "metadata": {
        "id": "view-in-github",
        "colab_type": "text"
      },
      "source": [
        "<a href=\"https://colab.research.google.com/github/AayanHidol/NNZH-by-Andrej-Karpathy/blob/main/Building_makemore_Part_2.ipynb\" target=\"_parent\"><img src=\"https://colab.research.google.com/assets/colab-badge.svg\" alt=\"Open In Colab\"/></a>"
      ]
    },
    {
      "cell_type": "code",
      "execution_count": 85,
      "metadata": {
        "colab": {
          "base_uri": "https://localhost:8080/"
        },
        "id": "hwdD5PwTduGW",
        "outputId": "f21e0b73-4d98-4827-b4d1-4eda8b2dfb68"
      },
      "outputs": [
        {
          "output_type": "stream",
          "name": "stdout",
          "text": [
            "--2025-07-15 16:00:14--  https://raw.githubusercontent.com/karpathy/makemore/refs/heads/master/names.txt\n",
            "Resolving raw.githubusercontent.com (raw.githubusercontent.com)... 185.199.108.133, 185.199.109.133, 185.199.110.133, ...\n",
            "Connecting to raw.githubusercontent.com (raw.githubusercontent.com)|185.199.108.133|:443... connected.\n",
            "HTTP request sent, awaiting response... 200 OK\n",
            "Length: 228145 (223K) [text/plain]\n",
            "Saving to: ‘names.txt.1’\n",
            "\n",
            "\rnames.txt.1           0%[                    ]       0  --.-KB/s               \rnames.txt.1         100%[===================>] 222.80K  --.-KB/s    in 0.02s   \n",
            "\n",
            "2025-07-15 16:00:14 (14.3 MB/s) - ‘names.txt.1’ saved [228145/228145]\n",
            "\n"
          ]
        }
      ],
      "source": [
        "!wget https://raw.githubusercontent.com/karpathy/makemore/refs/heads/master/names.txt"
      ]
    },
    {
      "cell_type": "code",
      "source": [
        "import torch\n",
        "import torch.nn.functional as F\n",
        "import matplotlib.pyplot as plt # for making figures\n",
        "%matplotlib inline"
      ],
      "metadata": {
        "id": "CkbBkR1bn4yO"
      },
      "execution_count": 233,
      "outputs": []
    },
    {
      "cell_type": "code",
      "source": [
        "# read in all the words\n",
        "words = open('names.txt', 'r').read().splitlines()\n",
        "words[:8]"
      ],
      "metadata": {
        "colab": {
          "base_uri": "https://localhost:8080/"
        },
        "id": "SK5zIo2WoHJp",
        "outputId": "25cfd61f-5981-4f5a-b7ff-adeef80e667e"
      },
      "execution_count": 234,
      "outputs": [
        {
          "output_type": "execute_result",
          "data": {
            "text/plain": [
              "['emma', 'olivia', 'ava', 'isabella', 'sophia', 'charlotte', 'mia', 'amelia']"
            ]
          },
          "metadata": {},
          "execution_count": 234
        }
      ]
    },
    {
      "cell_type": "code",
      "source": [
        "len(words)"
      ],
      "metadata": {
        "colab": {
          "base_uri": "https://localhost:8080/"
        },
        "id": "5cBX5HsJoQ_3",
        "outputId": "76f592f1-c52e-4a24-e8bc-3fccdd294112"
      },
      "execution_count": 235,
      "outputs": [
        {
          "output_type": "execute_result",
          "data": {
            "text/plain": [
              "32033"
            ]
          },
          "metadata": {},
          "execution_count": 235
        }
      ]
    },
    {
      "cell_type": "code",
      "source": [
        "# build the vocabulary of characters and mappings to / from integers\n",
        "chars = sorted(list(set(''.join(words))))\n",
        "stoi = {s:i+1 for i,s in enumerate(chars)}\n",
        "stoi['.'] = 0\n",
        "itos = {i:s for s,i in stoi.items()}\n",
        "print(itos)"
      ],
      "metadata": {
        "colab": {
          "base_uri": "https://localhost:8080/"
        },
        "id": "FXXo-rimoT_d",
        "outputId": "00fc88f1-99de-4e26-e96a-964214ecd882"
      },
      "execution_count": 236,
      "outputs": [
        {
          "output_type": "stream",
          "name": "stdout",
          "text": [
            "{1: 'a', 2: 'b', 3: 'c', 4: 'd', 5: 'e', 6: 'f', 7: 'g', 8: 'h', 9: 'i', 10: 'j', 11: 'k', 12: 'l', 13: 'm', 14: 'n', 15: 'o', 16: 'p', 17: 'q', 18: 'r', 19: 's', 20: 't', 21: 'u', 22: 'v', 23: 'w', 24: 'x', 25: 'y', 26: 'z', 0: '.'}\n"
          ]
        }
      ]
    },
    {
      "cell_type": "markdown",
      "source": [
        " ### Build the dataset"
      ],
      "metadata": {
        "id": "Oz-H65Yqo8GG"
      }
    },
    {
      "cell_type": "code",
      "source": [
        "block_size = 3 # context length: how many characters do we take to predict the next one?\n",
        "X, Y = [], []\n",
        "for w in words[:5]:\n",
        "  print(w)\n",
        "  context = [0] * block_size\n",
        "  for ch in w + '.':\n",
        "    ix = stoi[ch]\n",
        "    X.append(context)\n",
        "    Y.append(ix)\n",
        "    print(''.join(itos[i] for i in context), '--->', itos[ix])\n",
        "    context = context[1:] + [ix] # crop and append\n",
        "\n",
        "X = torch.tensor(X)\n",
        "Y = torch.tensor(Y)"
      ],
      "metadata": {
        "colab": {
          "base_uri": "https://localhost:8080/"
        },
        "collapsed": true,
        "id": "vBZYkgX1ph6b",
        "outputId": "b766db09-c8f9-4106-b66c-97e0e5397887"
      },
      "execution_count": 237,
      "outputs": [
        {
          "output_type": "stream",
          "name": "stdout",
          "text": [
            "emma\n",
            "... ---> e\n",
            "..e ---> m\n",
            ".em ---> m\n",
            "emm ---> a\n",
            "mma ---> .\n",
            "olivia\n",
            "... ---> o\n",
            "..o ---> l\n",
            ".ol ---> i\n",
            "oli ---> v\n",
            "liv ---> i\n",
            "ivi ---> a\n",
            "via ---> .\n",
            "ava\n",
            "... ---> a\n",
            "..a ---> v\n",
            ".av ---> a\n",
            "ava ---> .\n",
            "isabella\n",
            "... ---> i\n",
            "..i ---> s\n",
            ".is ---> a\n",
            "isa ---> b\n",
            "sab ---> e\n",
            "abe ---> l\n",
            "bel ---> l\n",
            "ell ---> a\n",
            "lla ---> .\n",
            "sophia\n",
            "... ---> s\n",
            "..s ---> o\n",
            ".so ---> p\n",
            "sop ---> h\n",
            "oph ---> i\n",
            "phi ---> a\n",
            "hia ---> .\n"
          ]
        }
      ]
    },
    {
      "cell_type": "code",
      "source": [
        "X.shape, X.dtype, Y.shape, Y.dtype"
      ],
      "metadata": {
        "colab": {
          "base_uri": "https://localhost:8080/"
        },
        "id": "8-DoQrWZqpgc",
        "outputId": "34d9d7d6-eb4d-45d1-840d-de4cbd716e69"
      },
      "execution_count": 91,
      "outputs": [
        {
          "output_type": "execute_result",
          "data": {
            "text/plain": [
              "(torch.Size([32, 3]), torch.int64, torch.Size([32]), torch.int64)"
            ]
          },
          "metadata": {},
          "execution_count": 91
        }
      ]
    },
    {
      "cell_type": "code",
      "source": [
        "X"
      ],
      "metadata": {
        "colab": {
          "base_uri": "https://localhost:8080/"
        },
        "collapsed": true,
        "id": "Vwk-2JF0qv__",
        "outputId": "5ddd9463-ff52-4279-de95-a164543e2df7"
      },
      "execution_count": 92,
      "outputs": [
        {
          "output_type": "execute_result",
          "data": {
            "text/plain": [
              "tensor([[ 0,  0,  0],\n",
              "        [ 0,  0,  5],\n",
              "        [ 0,  5, 13],\n",
              "        [ 5, 13, 13],\n",
              "        [13, 13,  1],\n",
              "        [ 0,  0,  0],\n",
              "        [ 0,  0, 15],\n",
              "        [ 0, 15, 12],\n",
              "        [15, 12,  9],\n",
              "        [12,  9, 22],\n",
              "        [ 9, 22,  9],\n",
              "        [22,  9,  1],\n",
              "        [ 0,  0,  0],\n",
              "        [ 0,  0,  1],\n",
              "        [ 0,  1, 22],\n",
              "        [ 1, 22,  1],\n",
              "        [ 0,  0,  0],\n",
              "        [ 0,  0,  9],\n",
              "        [ 0,  9, 19],\n",
              "        [ 9, 19,  1],\n",
              "        [19,  1,  2],\n",
              "        [ 1,  2,  5],\n",
              "        [ 2,  5, 12],\n",
              "        [ 5, 12, 12],\n",
              "        [12, 12,  1],\n",
              "        [ 0,  0,  0],\n",
              "        [ 0,  0, 19],\n",
              "        [ 0, 19, 15],\n",
              "        [19, 15, 16],\n",
              "        [15, 16,  8],\n",
              "        [16,  8,  9],\n",
              "        [ 8,  9,  1]])"
            ]
          },
          "metadata": {},
          "execution_count": 92
        }
      ]
    },
    {
      "cell_type": "code",
      "source": [
        "Y"
      ],
      "metadata": {
        "colab": {
          "base_uri": "https://localhost:8080/"
        },
        "id": "0L2bQjMBqx24",
        "outputId": "6c93e10c-736e-45a7-80e2-0a0a9f607fbf"
      },
      "execution_count": 93,
      "outputs": [
        {
          "output_type": "execute_result",
          "data": {
            "text/plain": [
              "tensor([ 5, 13, 13,  1,  0, 15, 12,  9, 22,  9,  1,  0,  1, 22,  1,  0,  9, 19,\n",
              "         1,  2,  5, 12, 12,  1,  0, 19, 15, 16,  8,  9,  1,  0])"
            ]
          },
          "metadata": {},
          "execution_count": 93
        }
      ]
    },
    {
      "cell_type": "code",
      "source": [
        "C = torch.randn((27, 2))"
      ],
      "metadata": {
        "id": "Ecb2A4Zpq2aW"
      },
      "execution_count": 94,
      "outputs": []
    },
    {
      "cell_type": "code",
      "source": [
        "C[5]"
      ],
      "metadata": {
        "colab": {
          "base_uri": "https://localhost:8080/"
        },
        "id": "ctlHkk_xq60g",
        "outputId": "d069c372-ee41-4c64-c3f1-33f4ee3b0f92"
      },
      "execution_count": 95,
      "outputs": [
        {
          "output_type": "execute_result",
          "data": {
            "text/plain": [
              "tensor([-0.1600, -1.7973])"
            ]
          },
          "metadata": {},
          "execution_count": 95
        }
      ]
    },
    {
      "cell_type": "code",
      "source": [
        "F.one_hot(torch.tensor(5), num_classes=27)"
      ],
      "metadata": {
        "colab": {
          "base_uri": "https://localhost:8080/"
        },
        "id": "RFyM-eWEq6yG",
        "outputId": "5c994f78-3b70-47bd-d4cc-553a83b7f617"
      },
      "execution_count": 96,
      "outputs": [
        {
          "output_type": "execute_result",
          "data": {
            "text/plain": [
              "tensor([0, 0, 0, 0, 0, 1, 0, 0, 0, 0, 0, 0, 0, 0, 0, 0, 0, 0, 0, 0, 0, 0, 0, 0,\n",
              "        0, 0, 0])"
            ]
          },
          "metadata": {},
          "execution_count": 96
        }
      ]
    },
    {
      "cell_type": "code",
      "source": [
        "F.one_hot(torch.tensor(5), num_classes=27).dtype"
      ],
      "metadata": {
        "colab": {
          "base_uri": "https://localhost:8080/"
        },
        "id": "gRN4EvPereWA",
        "outputId": "88b3660d-de8a-4a09-dd9b-5bd83bda664a"
      },
      "execution_count": 97,
      "outputs": [
        {
          "output_type": "execute_result",
          "data": {
            "text/plain": [
              "torch.int64"
            ]
          },
          "metadata": {},
          "execution_count": 97
        }
      ]
    },
    {
      "cell_type": "code",
      "source": [
        "# F.one_hot(torch.tensor(5), num_classes=27) @ C # this will error"
      ],
      "metadata": {
        "collapsed": true,
        "id": "pAzeieEZq6vi"
      },
      "execution_count": 98,
      "outputs": []
    },
    {
      "cell_type": "code",
      "source": [
        "F.one_hot(torch.tensor(5), num_classes=27).float() @ C"
      ],
      "metadata": {
        "colab": {
          "base_uri": "https://localhost:8080/"
        },
        "id": "GqynbV4Hq6sr",
        "outputId": "e1dc9088-a945-4807-d847-de1c6b4844ad"
      },
      "execution_count": 99,
      "outputs": [
        {
          "output_type": "execute_result",
          "data": {
            "text/plain": [
              "tensor([-0.1600, -1.7973])"
            ]
          },
          "metadata": {},
          "execution_count": 99
        }
      ]
    },
    {
      "cell_type": "code",
      "source": [
        "C[[5, 6, 7]]"
      ],
      "metadata": {
        "colab": {
          "base_uri": "https://localhost:8080/"
        },
        "id": "_X_vizaMroGQ",
        "outputId": "5c69dd02-b54c-4e30-810b-37701e5e19e7"
      },
      "execution_count": 100,
      "outputs": [
        {
          "output_type": "execute_result",
          "data": {
            "text/plain": [
              "tensor([[-0.1600, -1.7973],\n",
              "        [-1.1015, -0.5591],\n",
              "        [-0.6663,  0.4454]])"
            ]
          },
          "metadata": {},
          "execution_count": 100
        }
      ]
    },
    {
      "cell_type": "code",
      "source": [
        "C[X]"
      ],
      "metadata": {
        "colab": {
          "base_uri": "https://localhost:8080/"
        },
        "collapsed": true,
        "id": "OVSAlWfdsF5h",
        "outputId": "0e964a43-8b3b-4c2e-b0f2-bbb63ad4e7f4"
      },
      "execution_count": 101,
      "outputs": [
        {
          "output_type": "execute_result",
          "data": {
            "text/plain": [
              "tensor([[[-0.5265, -0.3964],\n",
              "         [-0.5265, -0.3964],\n",
              "         [-0.5265, -0.3964]],\n",
              "\n",
              "        [[-0.5265, -0.3964],\n",
              "         [-0.5265, -0.3964],\n",
              "         [-0.1600, -1.7973]],\n",
              "\n",
              "        [[-0.5265, -0.3964],\n",
              "         [-0.1600, -1.7973],\n",
              "         [ 2.4564,  0.8429]],\n",
              "\n",
              "        [[-0.1600, -1.7973],\n",
              "         [ 2.4564,  0.8429],\n",
              "         [ 2.4564,  0.8429]],\n",
              "\n",
              "        [[ 2.4564,  0.8429],\n",
              "         [ 2.4564,  0.8429],\n",
              "         [ 1.4539, -1.1985]],\n",
              "\n",
              "        [[-0.5265, -0.3964],\n",
              "         [-0.5265, -0.3964],\n",
              "         [-0.5265, -0.3964]],\n",
              "\n",
              "        [[-0.5265, -0.3964],\n",
              "         [-0.5265, -0.3964],\n",
              "         [-1.3830, -0.1552]],\n",
              "\n",
              "        [[-0.5265, -0.3964],\n",
              "         [-1.3830, -0.1552],\n",
              "         [-1.3789,  0.0599]],\n",
              "\n",
              "        [[-1.3830, -0.1552],\n",
              "         [-1.3789,  0.0599],\n",
              "         [ 0.8966, -0.6799]],\n",
              "\n",
              "        [[-1.3789,  0.0599],\n",
              "         [ 0.8966, -0.6799],\n",
              "         [-0.1900, -1.2497]],\n",
              "\n",
              "        [[ 0.8966, -0.6799],\n",
              "         [-0.1900, -1.2497],\n",
              "         [ 0.8966, -0.6799]],\n",
              "\n",
              "        [[-0.1900, -1.2497],\n",
              "         [ 0.8966, -0.6799],\n",
              "         [ 1.4539, -1.1985]],\n",
              "\n",
              "        [[-0.5265, -0.3964],\n",
              "         [-0.5265, -0.3964],\n",
              "         [-0.5265, -0.3964]],\n",
              "\n",
              "        [[-0.5265, -0.3964],\n",
              "         [-0.5265, -0.3964],\n",
              "         [ 1.4539, -1.1985]],\n",
              "\n",
              "        [[-0.5265, -0.3964],\n",
              "         [ 1.4539, -1.1985],\n",
              "         [-0.1900, -1.2497]],\n",
              "\n",
              "        [[ 1.4539, -1.1985],\n",
              "         [-0.1900, -1.2497],\n",
              "         [ 1.4539, -1.1985]],\n",
              "\n",
              "        [[-0.5265, -0.3964],\n",
              "         [-0.5265, -0.3964],\n",
              "         [-0.5265, -0.3964]],\n",
              "\n",
              "        [[-0.5265, -0.3964],\n",
              "         [-0.5265, -0.3964],\n",
              "         [ 0.8966, -0.6799]],\n",
              "\n",
              "        [[-0.5265, -0.3964],\n",
              "         [ 0.8966, -0.6799],\n",
              "         [-0.1516, -1.4850]],\n",
              "\n",
              "        [[ 0.8966, -0.6799],\n",
              "         [-0.1516, -1.4850],\n",
              "         [ 1.4539, -1.1985]],\n",
              "\n",
              "        [[-0.1516, -1.4850],\n",
              "         [ 1.4539, -1.1985],\n",
              "         [-0.5790,  0.6944]],\n",
              "\n",
              "        [[ 1.4539, -1.1985],\n",
              "         [-0.5790,  0.6944],\n",
              "         [-0.1600, -1.7973]],\n",
              "\n",
              "        [[-0.5790,  0.6944],\n",
              "         [-0.1600, -1.7973],\n",
              "         [-1.3789,  0.0599]],\n",
              "\n",
              "        [[-0.1600, -1.7973],\n",
              "         [-1.3789,  0.0599],\n",
              "         [-1.3789,  0.0599]],\n",
              "\n",
              "        [[-1.3789,  0.0599],\n",
              "         [-1.3789,  0.0599],\n",
              "         [ 1.4539, -1.1985]],\n",
              "\n",
              "        [[-0.5265, -0.3964],\n",
              "         [-0.5265, -0.3964],\n",
              "         [-0.5265, -0.3964]],\n",
              "\n",
              "        [[-0.5265, -0.3964],\n",
              "         [-0.5265, -0.3964],\n",
              "         [-0.1516, -1.4850]],\n",
              "\n",
              "        [[-0.5265, -0.3964],\n",
              "         [-0.1516, -1.4850],\n",
              "         [-1.3830, -0.1552]],\n",
              "\n",
              "        [[-0.1516, -1.4850],\n",
              "         [-1.3830, -0.1552],\n",
              "         [ 0.3482, -0.0299]],\n",
              "\n",
              "        [[-1.3830, -0.1552],\n",
              "         [ 0.3482, -0.0299],\n",
              "         [ 0.1327, -0.1422]],\n",
              "\n",
              "        [[ 0.3482, -0.0299],\n",
              "         [ 0.1327, -0.1422],\n",
              "         [ 0.8966, -0.6799]],\n",
              "\n",
              "        [[ 0.1327, -0.1422],\n",
              "         [ 0.8966, -0.6799],\n",
              "         [ 1.4539, -1.1985]]])"
            ]
          },
          "metadata": {},
          "execution_count": 101
        }
      ]
    },
    {
      "cell_type": "code",
      "source": [
        "C[X].shape"
      ],
      "metadata": {
        "colab": {
          "base_uri": "https://localhost:8080/"
        },
        "id": "DP3kK6DWsMOP",
        "outputId": "12800bff-b446-4603-dff2-8cd5ac522c92"
      },
      "execution_count": 102,
      "outputs": [
        {
          "output_type": "execute_result",
          "data": {
            "text/plain": [
              "torch.Size([32, 3, 2])"
            ]
          },
          "metadata": {},
          "execution_count": 102
        }
      ]
    },
    {
      "cell_type": "code",
      "source": [
        "X[13,2]"
      ],
      "metadata": {
        "colab": {
          "base_uri": "https://localhost:8080/"
        },
        "id": "mBaIxcDysafY",
        "outputId": "2857fb25-dc69-49ec-a959-fc55e0030a90"
      },
      "execution_count": 103,
      "outputs": [
        {
          "output_type": "execute_result",
          "data": {
            "text/plain": [
              "tensor(1)"
            ]
          },
          "metadata": {},
          "execution_count": 103
        }
      ]
    },
    {
      "cell_type": "code",
      "source": [
        "C[X][13, 2]"
      ],
      "metadata": {
        "colab": {
          "base_uri": "https://localhost:8080/"
        },
        "id": "t4jL_F9ts3xh",
        "outputId": "8a051092-5801-4e3e-d0a4-c3db88ab9b62"
      },
      "execution_count": 104,
      "outputs": [
        {
          "output_type": "execute_result",
          "data": {
            "text/plain": [
              "tensor([ 1.4539, -1.1985])"
            ]
          },
          "metadata": {},
          "execution_count": 104
        }
      ]
    },
    {
      "cell_type": "code",
      "source": [
        "C[1]"
      ],
      "metadata": {
        "colab": {
          "base_uri": "https://localhost:8080/"
        },
        "id": "sVPeVJDrtMdc",
        "outputId": "e7972fd2-81b6-4539-a29b-df1aef3a51cc"
      },
      "execution_count": 105,
      "outputs": [
        {
          "output_type": "execute_result",
          "data": {
            "text/plain": [
              "tensor([ 1.4539, -1.1985])"
            ]
          },
          "metadata": {},
          "execution_count": 105
        }
      ]
    },
    {
      "cell_type": "code",
      "source": [
        "emb = C[X]\n",
        "emb.shape"
      ],
      "metadata": {
        "colab": {
          "base_uri": "https://localhost:8080/"
        },
        "id": "IzIlhm10tQun",
        "outputId": "78ae13f3-5d22-492b-b499-2f182fa57962"
      },
      "execution_count": 106,
      "outputs": [
        {
          "output_type": "execute_result",
          "data": {
            "text/plain": [
              "torch.Size([32, 3, 2])"
            ]
          },
          "metadata": {},
          "execution_count": 106
        }
      ]
    },
    {
      "cell_type": "code",
      "source": [
        "W1 = torch.randn((6, 100))\n",
        "b1 = torch.randn(100)"
      ],
      "metadata": {
        "id": "hW9iVK_jtbZK"
      },
      "execution_count": 107,
      "outputs": []
    },
    {
      "cell_type": "code",
      "source": [
        "# this will error\n",
        "#emb @ W1 + b1"
      ],
      "metadata": {
        "id": "n69tEsi1tnRl"
      },
      "execution_count": 108,
      "outputs": []
    },
    {
      "cell_type": "code",
      "source": [
        "torch.cat([emb[:, 0, :], emb[:, 1, :], emb[:, 2, :]], 1) # this is not generalizable"
      ],
      "metadata": {
        "colab": {
          "base_uri": "https://localhost:8080/"
        },
        "collapsed": true,
        "id": "M7fiN4lHture",
        "outputId": "4c5e7cd6-f69f-430e-8cff-cc3f43a3e0e1"
      },
      "execution_count": 109,
      "outputs": [
        {
          "output_type": "execute_result",
          "data": {
            "text/plain": [
              "tensor([[-0.5265, -0.3964, -0.5265, -0.3964, -0.5265, -0.3964],\n",
              "        [-0.5265, -0.3964, -0.5265, -0.3964, -0.1600, -1.7973],\n",
              "        [-0.5265, -0.3964, -0.1600, -1.7973,  2.4564,  0.8429],\n",
              "        [-0.1600, -1.7973,  2.4564,  0.8429,  2.4564,  0.8429],\n",
              "        [ 2.4564,  0.8429,  2.4564,  0.8429,  1.4539, -1.1985],\n",
              "        [-0.5265, -0.3964, -0.5265, -0.3964, -0.5265, -0.3964],\n",
              "        [-0.5265, -0.3964, -0.5265, -0.3964, -1.3830, -0.1552],\n",
              "        [-0.5265, -0.3964, -1.3830, -0.1552, -1.3789,  0.0599],\n",
              "        [-1.3830, -0.1552, -1.3789,  0.0599,  0.8966, -0.6799],\n",
              "        [-1.3789,  0.0599,  0.8966, -0.6799, -0.1900, -1.2497],\n",
              "        [ 0.8966, -0.6799, -0.1900, -1.2497,  0.8966, -0.6799],\n",
              "        [-0.1900, -1.2497,  0.8966, -0.6799,  1.4539, -1.1985],\n",
              "        [-0.5265, -0.3964, -0.5265, -0.3964, -0.5265, -0.3964],\n",
              "        [-0.5265, -0.3964, -0.5265, -0.3964,  1.4539, -1.1985],\n",
              "        [-0.5265, -0.3964,  1.4539, -1.1985, -0.1900, -1.2497],\n",
              "        [ 1.4539, -1.1985, -0.1900, -1.2497,  1.4539, -1.1985],\n",
              "        [-0.5265, -0.3964, -0.5265, -0.3964, -0.5265, -0.3964],\n",
              "        [-0.5265, -0.3964, -0.5265, -0.3964,  0.8966, -0.6799],\n",
              "        [-0.5265, -0.3964,  0.8966, -0.6799, -0.1516, -1.4850],\n",
              "        [ 0.8966, -0.6799, -0.1516, -1.4850,  1.4539, -1.1985],\n",
              "        [-0.1516, -1.4850,  1.4539, -1.1985, -0.5790,  0.6944],\n",
              "        [ 1.4539, -1.1985, -0.5790,  0.6944, -0.1600, -1.7973],\n",
              "        [-0.5790,  0.6944, -0.1600, -1.7973, -1.3789,  0.0599],\n",
              "        [-0.1600, -1.7973, -1.3789,  0.0599, -1.3789,  0.0599],\n",
              "        [-1.3789,  0.0599, -1.3789,  0.0599,  1.4539, -1.1985],\n",
              "        [-0.5265, -0.3964, -0.5265, -0.3964, -0.5265, -0.3964],\n",
              "        [-0.5265, -0.3964, -0.5265, -0.3964, -0.1516, -1.4850],\n",
              "        [-0.5265, -0.3964, -0.1516, -1.4850, -1.3830, -0.1552],\n",
              "        [-0.1516, -1.4850, -1.3830, -0.1552,  0.3482, -0.0299],\n",
              "        [-1.3830, -0.1552,  0.3482, -0.0299,  0.1327, -0.1422],\n",
              "        [ 0.3482, -0.0299,  0.1327, -0.1422,  0.8966, -0.6799],\n",
              "        [ 0.1327, -0.1422,  0.8966, -0.6799,  1.4539, -1.1985]])"
            ]
          },
          "metadata": {},
          "execution_count": 109
        }
      ]
    },
    {
      "cell_type": "code",
      "source": [
        "torch.cat([emb[:, 0, :], emb[:, 1, :], emb[:, 2, :]], 1).shape"
      ],
      "metadata": {
        "colab": {
          "base_uri": "https://localhost:8080/"
        },
        "id": "L4uwdlWZuFLW",
        "outputId": "30ddacaa-73f8-4f67-9f47-e5c2d1bd49cf"
      },
      "execution_count": 110,
      "outputs": [
        {
          "output_type": "execute_result",
          "data": {
            "text/plain": [
              "torch.Size([32, 6])"
            ]
          },
          "metadata": {},
          "execution_count": 110
        }
      ]
    },
    {
      "cell_type": "code",
      "source": [
        "torch.cat(torch.unbind(emb, 1), 1) # this generalizes"
      ],
      "metadata": {
        "colab": {
          "base_uri": "https://localhost:8080/"
        },
        "collapsed": true,
        "id": "A8Q85KUXugTd",
        "outputId": "acfd7d00-436e-413b-99e6-f8285eef0ca4"
      },
      "execution_count": 111,
      "outputs": [
        {
          "output_type": "execute_result",
          "data": {
            "text/plain": [
              "tensor([[-0.5265, -0.3964, -0.5265, -0.3964, -0.5265, -0.3964],\n",
              "        [-0.5265, -0.3964, -0.5265, -0.3964, -0.1600, -1.7973],\n",
              "        [-0.5265, -0.3964, -0.1600, -1.7973,  2.4564,  0.8429],\n",
              "        [-0.1600, -1.7973,  2.4564,  0.8429,  2.4564,  0.8429],\n",
              "        [ 2.4564,  0.8429,  2.4564,  0.8429,  1.4539, -1.1985],\n",
              "        [-0.5265, -0.3964, -0.5265, -0.3964, -0.5265, -0.3964],\n",
              "        [-0.5265, -0.3964, -0.5265, -0.3964, -1.3830, -0.1552],\n",
              "        [-0.5265, -0.3964, -1.3830, -0.1552, -1.3789,  0.0599],\n",
              "        [-1.3830, -0.1552, -1.3789,  0.0599,  0.8966, -0.6799],\n",
              "        [-1.3789,  0.0599,  0.8966, -0.6799, -0.1900, -1.2497],\n",
              "        [ 0.8966, -0.6799, -0.1900, -1.2497,  0.8966, -0.6799],\n",
              "        [-0.1900, -1.2497,  0.8966, -0.6799,  1.4539, -1.1985],\n",
              "        [-0.5265, -0.3964, -0.5265, -0.3964, -0.5265, -0.3964],\n",
              "        [-0.5265, -0.3964, -0.5265, -0.3964,  1.4539, -1.1985],\n",
              "        [-0.5265, -0.3964,  1.4539, -1.1985, -0.1900, -1.2497],\n",
              "        [ 1.4539, -1.1985, -0.1900, -1.2497,  1.4539, -1.1985],\n",
              "        [-0.5265, -0.3964, -0.5265, -0.3964, -0.5265, -0.3964],\n",
              "        [-0.5265, -0.3964, -0.5265, -0.3964,  0.8966, -0.6799],\n",
              "        [-0.5265, -0.3964,  0.8966, -0.6799, -0.1516, -1.4850],\n",
              "        [ 0.8966, -0.6799, -0.1516, -1.4850,  1.4539, -1.1985],\n",
              "        [-0.1516, -1.4850,  1.4539, -1.1985, -0.5790,  0.6944],\n",
              "        [ 1.4539, -1.1985, -0.5790,  0.6944, -0.1600, -1.7973],\n",
              "        [-0.5790,  0.6944, -0.1600, -1.7973, -1.3789,  0.0599],\n",
              "        [-0.1600, -1.7973, -1.3789,  0.0599, -1.3789,  0.0599],\n",
              "        [-1.3789,  0.0599, -1.3789,  0.0599,  1.4539, -1.1985],\n",
              "        [-0.5265, -0.3964, -0.5265, -0.3964, -0.5265, -0.3964],\n",
              "        [-0.5265, -0.3964, -0.5265, -0.3964, -0.1516, -1.4850],\n",
              "        [-0.5265, -0.3964, -0.1516, -1.4850, -1.3830, -0.1552],\n",
              "        [-0.1516, -1.4850, -1.3830, -0.1552,  0.3482, -0.0299],\n",
              "        [-1.3830, -0.1552,  0.3482, -0.0299,  0.1327, -0.1422],\n",
              "        [ 0.3482, -0.0299,  0.1327, -0.1422,  0.8966, -0.6799],\n",
              "        [ 0.1327, -0.1422,  0.8966, -0.6799,  1.4539, -1.1985]])"
            ]
          },
          "metadata": {},
          "execution_count": 111
        }
      ]
    },
    {
      "cell_type": "code",
      "source": [
        "a = torch.arange(18)\n",
        "a"
      ],
      "metadata": {
        "colab": {
          "base_uri": "https://localhost:8080/"
        },
        "collapsed": true,
        "id": "aqhpQeh1uuAW",
        "outputId": "fe8a141c-03c9-4fe2-90ea-c93f7b715cde"
      },
      "execution_count": 112,
      "outputs": [
        {
          "output_type": "execute_result",
          "data": {
            "text/plain": [
              "tensor([ 0,  1,  2,  3,  4,  5,  6,  7,  8,  9, 10, 11, 12, 13, 14, 15, 16, 17])"
            ]
          },
          "metadata": {},
          "execution_count": 112
        }
      ]
    },
    {
      "cell_type": "code",
      "source": [
        "a.view(2,9) # calling `.view` is extremly efficient"
      ],
      "metadata": {
        "colab": {
          "base_uri": "https://localhost:8080/"
        },
        "collapsed": true,
        "id": "ssTbpq42u_6u",
        "outputId": "4dd35cb2-428d-439d-cc69-2295bdc36e4d"
      },
      "execution_count": 113,
      "outputs": [
        {
          "output_type": "execute_result",
          "data": {
            "text/plain": [
              "tensor([[ 0,  1,  2,  3,  4,  5,  6,  7,  8],\n",
              "        [ 9, 10, 11, 12, 13, 14, 15, 16, 17]])"
            ]
          },
          "metadata": {},
          "execution_count": 113
        }
      ]
    },
    {
      "cell_type": "code",
      "source": [
        "a.storage()"
      ],
      "metadata": {
        "colab": {
          "base_uri": "https://localhost:8080/"
        },
        "collapsed": true,
        "id": "ZTYyzxZTvFfP",
        "outputId": "99d5cbdf-80ad-43f8-a866-686bf5d3e99f"
      },
      "execution_count": 114,
      "outputs": [
        {
          "output_type": "execute_result",
          "data": {
            "text/plain": [
              " 0\n",
              " 1\n",
              " 2\n",
              " 3\n",
              " 4\n",
              " 5\n",
              " 6\n",
              " 7\n",
              " 8\n",
              " 9\n",
              " 10\n",
              " 11\n",
              " 12\n",
              " 13\n",
              " 14\n",
              " 15\n",
              " 16\n",
              " 17\n",
              "[torch.storage.TypedStorage(dtype=torch.int64, device=cpu) of size 18]"
            ]
          },
          "metadata": {},
          "execution_count": 114
        }
      ]
    },
    {
      "cell_type": "code",
      "source": [
        "emb.shape"
      ],
      "metadata": {
        "colab": {
          "base_uri": "https://localhost:8080/"
        },
        "id": "5QzeAfrmvREv",
        "outputId": "f05bcaf2-839e-477d-b196-699184156271"
      },
      "execution_count": 115,
      "outputs": [
        {
          "output_type": "execute_result",
          "data": {
            "text/plain": [
              "torch.Size([32, 3, 2])"
            ]
          },
          "metadata": {},
          "execution_count": 115
        }
      ]
    },
    {
      "cell_type": "code",
      "source": [
        "emb.view(32, 6) == torch.cat(torch.unbind(emb, 1), 1)"
      ],
      "metadata": {
        "colab": {
          "base_uri": "https://localhost:8080/"
        },
        "collapsed": true,
        "id": "CzYrDJUxvmzj",
        "outputId": "826f9fe9-7a8f-48bb-9f6b-f89b7b89580d"
      },
      "execution_count": 116,
      "outputs": [
        {
          "output_type": "execute_result",
          "data": {
            "text/plain": [
              "tensor([[True, True, True, True, True, True],\n",
              "        [True, True, True, True, True, True],\n",
              "        [True, True, True, True, True, True],\n",
              "        [True, True, True, True, True, True],\n",
              "        [True, True, True, True, True, True],\n",
              "        [True, True, True, True, True, True],\n",
              "        [True, True, True, True, True, True],\n",
              "        [True, True, True, True, True, True],\n",
              "        [True, True, True, True, True, True],\n",
              "        [True, True, True, True, True, True],\n",
              "        [True, True, True, True, True, True],\n",
              "        [True, True, True, True, True, True],\n",
              "        [True, True, True, True, True, True],\n",
              "        [True, True, True, True, True, True],\n",
              "        [True, True, True, True, True, True],\n",
              "        [True, True, True, True, True, True],\n",
              "        [True, True, True, True, True, True],\n",
              "        [True, True, True, True, True, True],\n",
              "        [True, True, True, True, True, True],\n",
              "        [True, True, True, True, True, True],\n",
              "        [True, True, True, True, True, True],\n",
              "        [True, True, True, True, True, True],\n",
              "        [True, True, True, True, True, True],\n",
              "        [True, True, True, True, True, True],\n",
              "        [True, True, True, True, True, True],\n",
              "        [True, True, True, True, True, True],\n",
              "        [True, True, True, True, True, True],\n",
              "        [True, True, True, True, True, True],\n",
              "        [True, True, True, True, True, True],\n",
              "        [True, True, True, True, True, True],\n",
              "        [True, True, True, True, True, True],\n",
              "        [True, True, True, True, True, True]])"
            ]
          },
          "metadata": {},
          "execution_count": 116
        }
      ]
    },
    {
      "cell_type": "code",
      "source": [
        "h = emb.view(32, 6) @ W1 + b1"
      ],
      "metadata": {
        "id": "5cBamRAivo3L"
      },
      "execution_count": 117,
      "outputs": []
    },
    {
      "cell_type": "code",
      "source": [
        "# to not hardcode 32\n",
        "h = emb.view(emb.shape[0], 6) @ W1 + b1\n",
        "# or\n",
        "# h = emb.view(-1, 6) @ (W1 + b1)"
      ],
      "metadata": {
        "id": "2I2N1g7HwSVR"
      },
      "execution_count": 118,
      "outputs": []
    },
    {
      "cell_type": "code",
      "source": [
        "h"
      ],
      "metadata": {
        "colab": {
          "base_uri": "https://localhost:8080/"
        },
        "id": "YU2bXyBpv7E0",
        "outputId": "19e6cfe1-4106-46b5-8fa2-b4351644f689"
      },
      "execution_count": 119,
      "outputs": [
        {
          "output_type": "execute_result",
          "data": {
            "text/plain": [
              "tensor([[ 1.2737, -0.2397, -1.9737,  ...,  2.9479,  0.7339,  0.0620],\n",
              "        [ 0.9821,  0.0397, -0.3414,  ...,  1.6955,  1.0317, -0.9702],\n",
              "        [ 0.2994, -1.3042,  0.4520,  ..., -2.1870,  4.3076,  1.3092],\n",
              "        ...,\n",
              "        [ 1.2686,  0.8292, -2.0383,  ...,  2.6301,  0.2249, -0.8099],\n",
              "        [-1.0466,  0.7166,  1.6807,  ..., -0.9233,  2.6404,  1.1986],\n",
              "        [-1.8571,  0.8707,  1.9893,  ..., -1.5551,  3.5665, -0.2331]])"
            ]
          },
          "metadata": {},
          "execution_count": 119
        }
      ]
    },
    {
      "cell_type": "code",
      "source": [
        "h.shape"
      ],
      "metadata": {
        "colab": {
          "base_uri": "https://localhost:8080/"
        },
        "id": "cG68epo2wMJo",
        "outputId": "ed505ab9-45aa-4eb1-de57-749aca162e5e"
      },
      "execution_count": 120,
      "outputs": [
        {
          "output_type": "execute_result",
          "data": {
            "text/plain": [
              "torch.Size([32, 100])"
            ]
          },
          "metadata": {},
          "execution_count": 120
        }
      ]
    },
    {
      "cell_type": "code",
      "source": [
        "# to be more memory efficient\n",
        "h = torch.tanh(emb.view(-1, 6) @ W1 + b1)"
      ],
      "metadata": {
        "id": "dYprjfkiwNYf"
      },
      "execution_count": 121,
      "outputs": []
    },
    {
      "cell_type": "code",
      "source": [
        "h"
      ],
      "metadata": {
        "colab": {
          "base_uri": "https://localhost:8080/"
        },
        "id": "xPFvb3w-w5Vt",
        "outputId": "b0daf145-cdf1-42e8-953e-4737443c4358"
      },
      "execution_count": 122,
      "outputs": [
        {
          "output_type": "execute_result",
          "data": {
            "text/plain": [
              "tensor([[ 0.8548, -0.2352, -0.9621,  ...,  0.9945,  0.6254,  0.0619],\n",
              "        [ 0.7540,  0.0397, -0.3287,  ...,  0.9348,  0.7746, -0.7488],\n",
              "        [ 0.2907, -0.8628,  0.4236,  ..., -0.9751,  0.9996,  0.8641],\n",
              "        ...,\n",
              "        [ 0.8534,  0.6801, -0.9666,  ...,  0.9897,  0.2212, -0.6695],\n",
              "        [-0.7805,  0.6148,  0.9329,  ..., -0.7275,  0.9899,  0.8332],\n",
              "        [-0.9524,  0.7017,  0.9633,  ..., -0.9146,  0.9984, -0.2290]])"
            ]
          },
          "metadata": {},
          "execution_count": 122
        }
      ]
    },
    {
      "cell_type": "code",
      "source": [
        "h.shape"
      ],
      "metadata": {
        "colab": {
          "base_uri": "https://localhost:8080/"
        },
        "id": "Ts3zTlavw5tZ",
        "outputId": "374ba985-b89a-4477-b481-5f54ee35512a"
      },
      "execution_count": 123,
      "outputs": [
        {
          "output_type": "execute_result",
          "data": {
            "text/plain": [
              "torch.Size([32, 100])"
            ]
          },
          "metadata": {},
          "execution_count": 123
        }
      ]
    },
    {
      "cell_type": "code",
      "source": [
        "W2 = torch.randn((100, 27))\n",
        "b2 = torch.randn(27)"
      ],
      "metadata": {
        "id": "pwusq77Ew-CL"
      },
      "execution_count": 124,
      "outputs": []
    },
    {
      "cell_type": "code",
      "source": [
        "logits = h @ W2 + b2"
      ],
      "metadata": {
        "id": "Q8P4uBMYxR7N"
      },
      "execution_count": 125,
      "outputs": []
    },
    {
      "cell_type": "code",
      "source": [
        "logits.shape"
      ],
      "metadata": {
        "colab": {
          "base_uri": "https://localhost:8080/"
        },
        "id": "1v7lzqTBxVCc",
        "outputId": "86300791-12a2-4d02-e14f-44df47d9ee7d"
      },
      "execution_count": 126,
      "outputs": [
        {
          "output_type": "execute_result",
          "data": {
            "text/plain": [
              "torch.Size([32, 27])"
            ]
          },
          "metadata": {},
          "execution_count": 126
        }
      ]
    },
    {
      "cell_type": "code",
      "source": [
        "logits"
      ],
      "metadata": {
        "colab": {
          "base_uri": "https://localhost:8080/"
        },
        "collapsed": true,
        "id": "pR84ub6SxWDw",
        "outputId": "760ea854-66b5-4335-f1c2-6c8dd9643a62"
      },
      "execution_count": 127,
      "outputs": [
        {
          "output_type": "execute_result",
          "data": {
            "text/plain": [
              "tensor([[-1.2769e+01,  5.9468e+00, -9.8045e+00,  1.9427e+00, -2.4974e+00,\n",
              "         -3.6777e+00,  3.3358e+00,  1.3969e+01,  5.9159e+00,  4.5848e+00,\n",
              "         -6.8212e+00,  5.8578e+00,  1.2143e+00,  1.0897e+01,  6.4888e+00,\n",
              "          2.4950e+00, -4.4475e+00,  4.4615e-01,  5.9531e-01,  2.4092e+00,\n",
              "         -1.0090e+01,  4.0690e+00,  6.1111e+00,  4.7876e+00,  8.4439e+00,\n",
              "         -7.9030e+00, -8.9042e-01],\n",
              "        [-9.2055e+00,  6.0265e+00, -7.5091e+00, -2.0938e+00, -7.2465e+00,\n",
              "          3.2307e+00, -3.7036e-03,  1.6592e+01,  3.3987e+00,  6.1007e+00,\n",
              "         -9.6601e+00,  3.5256e+00,  6.3176e+00,  1.1353e+01,  1.0047e+00,\n",
              "          2.4149e+00,  3.1701e+00, -4.6014e+00,  6.3391e+00,  2.2608e+00,\n",
              "         -1.6912e+01,  6.3724e+00,  1.3263e+01,  1.2718e+01,  5.4301e+00,\n",
              "         -3.3090e+00,  3.8038e+00],\n",
              "        [-5.9716e+00, -5.1052e-01,  7.9296e+00,  7.7142e+00,  1.6508e+01,\n",
              "         -7.2774e+00,  1.1261e+01, -1.5905e+00,  1.5174e+00,  1.2682e+01,\n",
              "         -8.6487e+00,  6.8125e+00, -1.7021e+01, -2.1971e+00,  1.2755e+00,\n",
              "          9.1403e+00, -2.4089e+01,  2.5169e+00, -2.2512e+00,  1.3594e+01,\n",
              "         -1.8909e+00, -9.6707e-01, -1.2882e+01, -8.8236e-01,  1.5775e+01,\n",
              "         -6.2495e+00, -6.0734e+00],\n",
              "        [-1.0947e+01,  4.8725e+00, -1.0538e+01,  4.4165e+00,  7.1520e+00,\n",
              "         -3.4901e+00,  1.0925e+01, -2.2078e+00,  3.3923e+00,  4.5504e+00,\n",
              "          2.8549e+00,  3.2359e+00, -1.1962e+00, -7.0477e+00,  1.5096e+00,\n",
              "          3.4655e+00, -6.9332e+00,  1.5278e+01,  1.1941e+00,  1.7682e+01,\n",
              "          1.3212e+00,  5.4889e+00,  7.6268e+00, -1.1919e+01,  3.8593e+00,\n",
              "         -6.5590e+00, -2.2261e+00],\n",
              "        [ 3.7477e+00,  8.5124e+00, -4.2707e+00, -9.1137e+00,  3.6719e+00,\n",
              "          6.2891e+00,  4.5158e+00,  2.3609e+00,  1.0862e+01, -1.9009e+00,\n",
              "          7.9923e-02, -4.5217e+00,  8.9939e+00,  3.1528e+00,  3.4171e-01,\n",
              "          8.6527e+00,  1.0864e+01,  1.1390e+01,  6.1864e+00,  1.0734e+01,\n",
              "         -4.1012e+00,  1.2446e+01,  1.3646e+01,  3.8413e+00,  3.9624e+00,\n",
              "         -1.2157e+01, -1.1163e+00],\n",
              "        [-1.2769e+01,  5.9468e+00, -9.8045e+00,  1.9427e+00, -2.4974e+00,\n",
              "         -3.6777e+00,  3.3358e+00,  1.3969e+01,  5.9159e+00,  4.5848e+00,\n",
              "         -6.8212e+00,  5.8578e+00,  1.2143e+00,  1.0897e+01,  6.4888e+00,\n",
              "          2.4950e+00, -4.4475e+00,  4.4615e-01,  5.9531e-01,  2.4092e+00,\n",
              "         -1.0090e+01,  4.0690e+00,  6.1111e+00,  4.7876e+00,  8.4439e+00,\n",
              "         -7.9030e+00, -8.9042e-01],\n",
              "        [-1.1843e+01,  7.6098e+00, -1.1485e+01,  4.5269e+00, -3.3494e+00,\n",
              "          6.4826e-01,  3.5785e+00,  1.4757e+01,  6.4022e+00,  2.3612e+00,\n",
              "         -8.3785e+00,  3.6952e+00,  4.3522e+00,  1.6146e+01,  9.2072e+00,\n",
              "         -4.8048e+00,  8.8760e-01,  1.8533e+00,  1.1761e+00, -4.8398e+00,\n",
              "         -4.0991e+00,  5.3811e+00,  6.9655e+00,  7.4266e+00,  8.2077e+00,\n",
              "         -5.1108e+00,  9.6707e-01],\n",
              "        [-8.5076e+00,  5.9332e+00, -7.1387e+00,  4.3594e+00, -1.4025e+00,\n",
              "          9.9970e-01, -3.8858e+00,  1.5238e+01,  1.0202e+00, -9.2941e-01,\n",
              "         -6.3406e+00,  2.6871e+00,  3.6991e+00,  1.5735e+01,  4.1438e+00,\n",
              "          1.1525e+00,  5.9115e-01,  1.2929e+00, -1.2134e+01, -6.0400e+00,\n",
              "         -4.1091e+00,  4.4566e+00,  4.8409e+00,  5.7637e+00,  9.2742e+00,\n",
              "         -1.0500e+00,  5.2351e+00],\n",
              "        [-9.0989e+00,  7.6500e+00,  1.6296e-01, -3.7458e+00,  3.0113e-01,\n",
              "          3.0774e+00, -1.1300e+01,  5.5943e+00,  3.8906e+00,  4.4483e+00,\n",
              "         -4.3940e+00,  1.0026e+01, -2.6766e+00, -3.0866e+00,  2.7289e-01,\n",
              "          1.6486e+01, -8.7847e+00,  8.7714e-01, -2.5912e+00,  4.9643e+00,\n",
              "         -7.7807e+00, -2.3149e+00,  5.4992e+00,  1.6265e+00, -4.1080e+00,\n",
              "          2.7620e-02,  3.4665e+00],\n",
              "        [-5.6384e+00, -6.8629e-01, -1.0188e+01,  9.7143e-01, -4.3373e+00,\n",
              "          3.5147e-02, -4.5461e+00,  9.5120e+00,  2.3475e+00,  1.8514e+00,\n",
              "          3.7420e+00,  2.6263e+00,  9.1436e+00,  1.2276e+01,  1.6113e+01,\n",
              "         -1.5563e+00, -6.0210e+00, -3.6923e-01,  1.3218e+01,  2.8642e+00,\n",
              "         -7.5072e-01,  1.7465e+00,  4.5515e+00,  5.8174e+00,  6.7779e+00,\n",
              "         -6.7413e+00,  1.0047e+00],\n",
              "        [-4.9860e+00, -5.4650e-02,  7.7233e-01,  8.0113e-01,  3.5981e+00,\n",
              "          5.7920e+00, -1.5290e+00,  4.4714e+00, -5.5796e+00,  2.3403e+00,\n",
              "         -1.5228e+01,  5.2533e+00,  4.8327e+00, -3.3804e+00, -2.8855e+00,\n",
              "          8.1350e+00, -5.8716e+00, -6.6482e+00,  1.9867e+00,  1.6284e+01,\n",
              "         -1.0273e+01,  1.2735e+01,  4.9453e+00,  4.3812e+00,  6.2654e+00,\n",
              "         -3.2136e+00, -3.1675e+00],\n",
              "        [-7.0583e+00,  1.3550e+00, -3.0805e+00, -1.0127e+00,  5.4669e+00,\n",
              "         -3.3144e+00, -1.8741e+00,  7.1378e+00,  2.1461e+00,  2.7796e+00,\n",
              "         -6.5748e+00,  6.3955e+00,  1.5048e+00,  4.5036e-01,  1.0336e+00,\n",
              "          1.5140e+01, -1.2807e+01,  9.6754e+00,  7.5014e-01,  1.3835e+01,\n",
              "         -9.6861e-01,  6.0728e+00,  5.3184e+00, -1.3809e+00,  6.1293e+00,\n",
              "         -6.8678e+00,  2.6593e+00],\n",
              "        [-1.2769e+01,  5.9468e+00, -9.8045e+00,  1.9427e+00, -2.4974e+00,\n",
              "         -3.6777e+00,  3.3358e+00,  1.3969e+01,  5.9159e+00,  4.5848e+00,\n",
              "         -6.8212e+00,  5.8578e+00,  1.2143e+00,  1.0897e+01,  6.4888e+00,\n",
              "          2.4950e+00, -4.4475e+00,  4.4615e-01,  5.9531e-01,  2.4092e+00,\n",
              "         -1.0090e+01,  4.0690e+00,  6.1111e+00,  4.7876e+00,  8.4439e+00,\n",
              "         -7.9030e+00, -8.9042e-01],\n",
              "        [-9.5510e+00,  1.0765e+01,  1.0037e+00, -4.6516e-02,  2.2641e+00,\n",
              "          3.3996e+00, -8.1080e+00,  9.1462e+00,  4.5414e+00,  5.4171e+00,\n",
              "         -8.1132e+00,  1.3709e+01, -6.9414e+00, -5.1928e+00, -3.7941e+00,\n",
              "          1.8395e+01, -9.5636e+00, -4.3277e+00,  5.3506e+00,  8.7908e+00,\n",
              "         -1.1500e+01,  5.6701e+00,  4.5667e+00,  2.8453e+00, -6.4559e-02,\n",
              "         -2.4605e+00,  4.7443e+00],\n",
              "        [-2.7311e+00, -4.0565e+00, -1.3432e+01,  4.3506e+00, -4.1803e+00,\n",
              "         -3.6340e+00, -1.6972e+00,  9.3424e+00, -2.2723e+00,  6.2543e+00,\n",
              "         -2.1756e+00,  2.0745e+00,  1.9661e+00,  1.6073e+01,  1.5671e+01,\n",
              "          9.3362e-01, -2.8562e+00, -6.4927e-01,  1.6150e+01,  1.3944e+01,\n",
              "         -2.6829e+00,  7.8678e+00, -1.6578e+00,  3.6702e+00,  9.6098e+00,\n",
              "         -9.7667e+00, -3.4608e+00],\n",
              "        [-8.6425e+00, -1.4523e+00, -2.0160e+00, -4.5118e+00,  2.4546e+00,\n",
              "          2.2126e+00, -2.6711e+00,  7.2303e+00, -6.7844e+00, -1.5210e+00,\n",
              "         -1.2480e+01,  4.9506e+00,  9.0980e+00, -1.0571e+01, -8.1588e+00,\n",
              "          1.0379e+01, -6.6431e+00,  1.5518e-01,  1.9999e+00,  1.7333e+01,\n",
              "         -1.0293e+01,  1.4056e+01,  9.5710e+00,  1.0690e+00,  5.8869e+00,\n",
              "         -2.8973e+00,  1.1903e+00],\n",
              "        [-1.2769e+01,  5.9468e+00, -9.8045e+00,  1.9427e+00, -2.4974e+00,\n",
              "         -3.6777e+00,  3.3358e+00,  1.3969e+01,  5.9159e+00,  4.5848e+00,\n",
              "         -6.8212e+00,  5.8578e+00,  1.2143e+00,  1.0897e+01,  6.4888e+00,\n",
              "          2.4950e+00, -4.4475e+00,  4.4615e-01,  5.9531e-01,  2.4092e+00,\n",
              "         -1.0090e+01,  4.0690e+00,  6.1111e+00,  4.7876e+00,  8.4439e+00,\n",
              "         -7.9030e+00, -8.9042e-01],\n",
              "        [-1.0034e+01,  1.0658e+01, -2.9700e+00,  4.9146e-01,  2.2786e+00,\n",
              "          1.2227e+00, -2.6337e+00,  9.0103e+00,  3.6210e+00,  4.7813e+00,\n",
              "         -6.8443e+00,  1.1875e+01, -5.4015e+00, -1.6005e+00, -2.6847e+00,\n",
              "          1.6608e+01, -7.9215e+00, -4.7308e+00,  2.0120e+00,  7.7406e+00,\n",
              "         -1.1845e+01,  3.6841e+00,  4.4542e+00,  2.6975e+00,  5.2030e+00,\n",
              "         -3.6511e+00,  9.4031e-01],\n",
              "        [-3.6043e+00, -1.2507e+00, -1.2278e+01,  5.7532e-01, -6.5746e+00,\n",
              "         -2.0766e+00, -3.5236e+00,  1.3159e+01,  3.1314e+00,  4.8509e+00,\n",
              "         -4.2408e+00,  1.9323e+00,  5.3906e+00,  1.5063e+01,  1.2803e+01,\n",
              "         -5.1199e-01, -1.1890e+00,  2.0821e+00,  1.4865e+01,  8.7291e+00,\n",
              "         -3.8831e+00,  8.4813e+00,  2.2306e+00,  5.9207e+00,  6.3436e+00,\n",
              "         -7.2153e+00,  8.7435e-01],\n",
              "        [-5.8361e+00,  9.3049e-01,  2.4913e+00, -9.1296e-01,  2.7720e+00,\n",
              "          6.6107e+00, -3.0877e+00,  4.2986e+00, -4.4348e+00,  3.3057e+00,\n",
              "         -1.5300e+01,  4.5652e+00,  7.0840e+00, -6.4290e+00, -3.7885e+00,\n",
              "          5.9770e+00, -7.8334e+00, -4.8399e+00,  3.2942e+00,  1.7469e+01,\n",
              "         -8.8702e+00,  1.1322e+01,  5.2259e+00,  6.0320e+00,  3.1750e+00,\n",
              "         -4.5840e+00, -7.8126e-01],\n",
              "        [-4.6027e+00, -3.8725e+00, -1.4430e+01,  4.1964e+00,  5.1788e+00,\n",
              "         -9.7500e+00,  2.5896e+00,  3.8735e+00, -6.8572e+00, -6.6260e-01,\n",
              "          5.9928e+00,  2.3177e+00, -2.7934e+00,  7.2520e+00,  1.0443e+01,\n",
              "          2.0397e+00, -2.8895e-01, -1.1194e+00,  4.9099e+00,  6.3332e+00,\n",
              "          1.1486e+00,  5.4246e+00, -5.8660e+00, -3.3240e+00,  1.0434e+01,\n",
              "         -1.2466e+01, -7.4950e+00],\n",
              "        [-1.3044e+01,  4.2580e+00, -3.0099e+00, -6.0712e+00, -1.6591e+00,\n",
              "          7.3160e-01, -4.0961e+00,  1.8454e+01,  4.2603e+00, -5.2183e+00,\n",
              "         -6.2340e+00, -5.9663e-01,  1.2366e+01,  3.8539e+00, -4.2232e+00,\n",
              "          5.7890e+00,  1.3158e+00,  2.8564e+00,  3.9360e+00,  7.4513e+00,\n",
              "         -1.4098e+01,  2.1168e+01,  2.3794e+01,  2.6976e+00,  3.4728e+00,\n",
              "         -7.8249e+00,  1.3700e+01],\n",
              "        [-8.9197e+00,  7.9574e+00, -4.2927e+00,  1.1612e+01,  3.2309e+00,\n",
              "         -5.3346e+00,  3.1590e+00,  5.1730e-01, -2.2748e+00,  9.4409e+00,\n",
              "         -9.9021e+00, -1.8623e-01, -6.1244e+00,  1.1543e+01,  1.2165e+01,\n",
              "         -4.0853e+00, -1.1934e+01, -6.0838e+00,  7.9746e+00, -1.9401e+00,\n",
              "         -2.2650e+00, -2.9374e+00, -7.1400e+00,  6.4034e+00,  1.1097e+01,\n",
              "         -3.5718e+00, -1.0982e+01],\n",
              "        [-1.9745e+01,  7.4930e+00, -1.1276e+01,  7.4528e+00,  8.0434e-01,\n",
              "         -5.9497e+00,  1.5441e+00,  1.2503e+01,  2.0658e+00, -3.2535e+00,\n",
              "          1.1767e+00,  9.6582e+00, -4.6312e-01,  1.0533e+01, -1.4067e+00,\n",
              "          8.1948e+00,  3.2098e+00,  4.6028e+00, -1.3031e+01,  3.0555e+00,\n",
              "         -8.6116e+00,  9.7811e+00,  9.6369e+00,  9.4329e-01,  7.7767e+00,\n",
              "         -1.3314e+01,  9.0504e+00],\n",
              "        [-7.0678e+00,  6.4932e+00,  4.2600e+00, -3.2408e+00,  6.8823e-01,\n",
              "          7.7587e+00, -1.7566e+01,  4.1283e+00,  3.8153e+00,  4.0626e+00,\n",
              "         -5.3417e+00,  1.0784e+01, -4.6963e+00, -4.2240e+00, -5.7253e+00,\n",
              "          1.8102e+01, -1.1608e+01, -3.9584e+00,  2.5222e+00,  6.0683e+00,\n",
              "         -8.5210e+00,  5.9586e-01,  7.4599e+00,  2.6889e+00, -5.8905e+00,\n",
              "          2.0864e+00,  6.1051e+00],\n",
              "        [-1.2769e+01,  5.9468e+00, -9.8045e+00,  1.9427e+00, -2.4974e+00,\n",
              "         -3.6777e+00,  3.3358e+00,  1.3969e+01,  5.9159e+00,  4.5848e+00,\n",
              "         -6.8212e+00,  5.8578e+00,  1.2143e+00,  1.0897e+01,  6.4888e+00,\n",
              "          2.4950e+00, -4.4475e+00,  4.4615e-01,  5.9531e-01,  2.4092e+00,\n",
              "         -1.0090e+01,  4.0690e+00,  6.1111e+00,  4.7876e+00,  8.4439e+00,\n",
              "         -7.9030e+00, -8.9042e-01],\n",
              "        [-1.0470e+01,  6.4072e+00, -8.4246e+00, -1.5184e+00, -5.6410e+00,\n",
              "          1.8550e+00,  2.1013e+00,  1.5898e+01,  4.0751e+00,  5.4543e+00,\n",
              "         -9.2761e+00,  4.4960e+00,  6.1159e+00,  1.1005e+01,  1.1217e+00,\n",
              "          3.1796e+00,  2.1239e+00, -4.9157e+00,  4.8308e+00,  2.4907e+00,\n",
              "         -1.6841e+01,  5.8939e+00,  1.2835e+01,  1.1392e+01,  6.1045e+00,\n",
              "         -3.9686e+00,  2.5112e+00],\n",
              "        [-8.8268e+00,  2.1610e+00, -9.9529e+00,  7.2300e+00,  2.1848e+00,\n",
              "         -3.7864e+00,  4.6801e+00,  5.2411e+00,  5.7432e-01,  8.8176e+00,\n",
              "         -4.1047e+00,  3.0202e+00,  1.5306e+00,  1.1462e+01,  8.1174e+00,\n",
              "         -5.2123e+00, -7.0775e+00, -3.0333e+00,  1.2733e+01, -3.9918e-01,\n",
              "         -4.4451e+00,  8.4720e+00, -1.2961e+00,  4.1736e+00,  8.2177e+00,\n",
              "         -6.8048e+00, -5.7757e+00],\n",
              "        [-1.3786e+01,  7.5185e+00, -7.3973e+00,  4.8067e+00,  9.5123e+00,\n",
              "         -2.9251e+00,  7.5367e+00,  9.7650e+00,  3.6524e+00,  5.9714e+00,\n",
              "         -3.7691e+00,  1.2169e+01, -1.8846e+00,  8.0546e-02, -6.0233e+00,\n",
              "          1.0526e+01, -2.4418e+00, -4.8053e+00, -1.0949e+01,  5.8675e+00,\n",
              "         -1.0880e+01,  8.4240e+00,  3.1034e+00,  8.4131e-01,  8.8219e+00,\n",
              "         -8.3921e+00,  1.4572e+00],\n",
              "        [-1.1875e+01,  5.0970e+00, -7.0578e+00,  2.8243e+00,  5.2028e+00,\n",
              "         -7.4260e+00, -4.9110e+00,  7.2927e+00,  6.6601e+00, -2.2333e+00,\n",
              "          9.8614e+00,  6.9617e+00,  2.6442e+00,  7.6453e+00,  1.6939e+01,\n",
              "          1.3080e+01, -8.7819e+00,  1.0250e+01, -1.7579e+00, -8.7599e-01,\n",
              "         -1.6592e+00, -1.0541e-01,  8.0432e+00,  2.9334e-01,  5.2825e+00,\n",
              "         -1.3650e+01,  2.2901e+00],\n",
              "        [-6.6970e+00,  2.2678e+00, -3.3559e+00, -2.2039e+00,  2.6426e+00,\n",
              "          2.7043e+00, -4.5560e+00,  7.4061e+00,  5.5673e+00,  6.2948e+00,\n",
              "         -4.4061e+00,  8.2655e+00,  2.1515e+00, -3.5623e+00,  1.6848e+00,\n",
              "          1.0585e+01, -3.5558e+00, -3.6806e+00,  2.7611e+00,  1.1880e+01,\n",
              "         -1.3270e+01,  1.0811e+01,  7.7638e+00, -1.1311e+00,  1.1678e+00,\n",
              "         -6.9362e+00,  7.5260e-03],\n",
              "        [-2.5974e+00, -7.7355e-01, -6.7387e-01, -1.2556e+00,  1.5197e+00,\n",
              "          5.8320e-02, -4.4398e+00,  2.8126e+00,  4.3715e+00,  5.1647e+00,\n",
              "         -8.3924e+00,  5.4583e+00,  4.6634e+00, -2.5075e+00,  6.5668e+00,\n",
              "          7.3767e+00, -9.6680e+00,  2.0598e+00,  5.8375e+00,  1.8329e+01,\n",
              "         -4.4607e+00,  6.7996e+00,  3.7932e+00,  3.2714e+00,  1.0673e+00,\n",
              "         -8.2043e+00,  1.6276e+00]])"
            ]
          },
          "metadata": {},
          "execution_count": 127
        }
      ]
    },
    {
      "cell_type": "code",
      "source": [
        "counts = logits.exp()"
      ],
      "metadata": {
        "id": "IHcBAUgZxi3L"
      },
      "execution_count": 128,
      "outputs": []
    },
    {
      "cell_type": "code",
      "source": [
        "prob = counts / counts.sum(1, keepdims=True)"
      ],
      "metadata": {
        "id": "OeQxlTZLxojq"
      },
      "execution_count": 129,
      "outputs": []
    },
    {
      "cell_type": "code",
      "source": [
        "prob.shape"
      ],
      "metadata": {
        "colab": {
          "base_uri": "https://localhost:8080/"
        },
        "id": "gAvb_JYQxsVX",
        "outputId": "1290aae1-8d17-4eaa-8f19-cdb3f686286e"
      },
      "execution_count": 130,
      "outputs": [
        {
          "output_type": "execute_result",
          "data": {
            "text/plain": [
              "torch.Size([32, 27])"
            ]
          },
          "metadata": {},
          "execution_count": 130
        }
      ]
    },
    {
      "cell_type": "code",
      "source": [
        "prob"
      ],
      "metadata": {
        "collapsed": true,
        "colab": {
          "base_uri": "https://localhost:8080/"
        },
        "id": "SkIZbqoGxttC",
        "outputId": "3156f2b4-a587-4130-a20e-2177dc49f054"
      },
      "execution_count": 131,
      "outputs": [
        {
          "output_type": "execute_result",
          "data": {
            "text/plain": [
              "tensor([[2.3202e-12, 3.1168e-04, 4.4980e-11, 5.6852e-06, 6.7054e-08, 2.0600e-08,\n",
              "         2.2896e-05, 9.5011e-01, 3.0219e-04, 7.9840e-05, 8.8844e-10, 2.8514e-04,\n",
              "         2.7442e-06, 4.4024e-02, 5.3591e-04, 9.8773e-06, 9.5395e-09, 1.2730e-06,\n",
              "         1.4777e-06, 9.0650e-06, 3.3800e-11, 4.7665e-05, 3.6735e-04, 9.7791e-05,\n",
              "         3.7861e-03, 3.0118e-10, 3.3446e-07],\n",
              "        [5.8891e-12, 2.4279e-05, 3.2123e-11, 7.2215e-09, 4.1769e-11, 1.4827e-06,\n",
              "         5.8393e-08, 9.4156e-01, 1.7539e-06, 2.6149e-05, 3.7380e-12, 1.9911e-06,\n",
              "         3.2484e-05, 4.9953e-03, 1.6007e-07, 6.5579e-07, 1.3955e-06, 5.8830e-10,\n",
              "         3.3190e-05, 5.6213e-07, 2.6486e-15, 3.4313e-05, 3.3718e-02, 1.9556e-02,\n",
              "         1.3373e-05, 2.1424e-09, 2.6298e-06],\n",
              "        [1.1045e-10, 2.5996e-08, 1.2034e-04, 9.7015e-05, 6.3997e-01, 2.9928e-11,\n",
              "         3.3681e-03, 8.8286e-09, 1.9752e-07, 1.3947e-02, 7.5950e-12, 3.9377e-05,\n",
              "         1.7560e-15, 4.8134e-09, 1.5509e-07, 4.0383e-04, 1.4957e-18, 5.3666e-07,\n",
              "         4.5598e-09, 3.4704e-02, 6.5374e-09, 1.6468e-08, 1.1017e-13, 1.7923e-08,\n",
              "         3.0735e-01, 8.3654e-11, 9.9766e-11],\n",
              "        [3.3773e-13, 2.5045e-06, 5.0809e-13, 1.5874e-06, 2.4473e-05, 5.8466e-10,\n",
              "         1.0643e-03, 2.1077e-09, 5.6998e-07, 1.8147e-06, 3.3303e-07, 4.8746e-07,\n",
              "         5.7956e-09, 1.6666e-11, 8.6740e-08, 6.1328e-07, 1.8688e-11, 8.2747e-02,\n",
              "         6.3273e-08, 9.1611e-01, 7.1849e-08, 4.6390e-06, 3.9345e-05, 1.2769e-13,\n",
              "         9.0929e-07, 2.7170e-11, 2.0694e-09],\n",
              "        [3.1254e-05, 3.6656e-03, 1.0293e-08, 8.1146e-11, 2.8971e-05, 3.9682e-04,\n",
              "         6.7372e-05, 7.8089e-06, 3.8421e-02, 1.1008e-07, 7.9797e-07, 8.0081e-09,\n",
              "         5.9331e-03, 1.7239e-05, 1.0368e-06, 4.2180e-03, 3.8504e-02, 6.5173e-02,\n",
              "         3.5809e-04, 3.3821e-02, 1.2194e-08, 1.8732e-01, 6.2197e-01, 3.4318e-05,\n",
              "         3.8737e-05, 3.8702e-12, 2.4124e-07],\n",
              "        [2.3202e-12, 3.1168e-04, 4.4980e-11, 5.6852e-06, 6.7054e-08, 2.0600e-08,\n",
              "         2.2896e-05, 9.5011e-01, 3.0219e-04, 7.9840e-05, 8.8844e-10, 2.8514e-04,\n",
              "         2.7442e-06, 4.4024e-02, 5.3591e-04, 9.8773e-06, 9.5395e-09, 1.2730e-06,\n",
              "         1.4777e-06, 9.0650e-06, 3.3800e-11, 4.7665e-05, 3.6735e-04, 9.7791e-05,\n",
              "         3.7861e-03, 3.0118e-10, 3.3446e-07],\n",
              "        [5.5877e-13, 1.5688e-04, 7.9917e-13, 7.1890e-06, 2.7292e-09, 1.4866e-07,\n",
              "         2.7848e-06, 1.9939e-01, 4.6892e-05, 8.2440e-07, 1.7862e-11, 3.1297e-06,\n",
              "         6.0367e-06, 7.9910e-01, 7.7505e-04, 6.3678e-10, 1.8887e-07, 4.9610e-07,\n",
              "         2.5203e-07, 6.1488e-10, 1.2896e-09, 1.6891e-05, 8.2368e-05, 1.3061e-04,\n",
              "         2.8524e-04, 4.6889e-10, 2.0449e-07],\n",
              "        [1.8398e-11, 3.4383e-05, 7.2329e-11, 7.1264e-06, 2.2413e-08, 2.4761e-07,\n",
              "         1.8707e-09, 3.7794e-01, 2.5273e-07, 3.5972e-08, 1.6066e-10, 1.3384e-06,\n",
              "         3.6823e-06, 6.2097e-01, 5.7444e-06, 2.8848e-07, 1.6456e-07, 3.3199e-07,\n",
              "         4.8951e-13, 2.1701e-10, 1.4963e-09, 7.8534e-06, 1.1534e-05, 2.9024e-05,\n",
              "         9.7124e-04, 3.1885e-08, 1.7107e-05],\n",
              "        [7.7219e-12, 1.4510e-04, 8.1299e-08, 1.6313e-09, 9.3346e-08, 1.4990e-06,\n",
              "         8.5501e-13, 1.8572e-05, 3.3806e-06, 5.9047e-06, 8.5311e-10, 1.5622e-03,\n",
              "         4.7519e-09, 3.1536e-09, 9.0747e-08, 9.9823e-01, 1.0573e-11, 1.6605e-07,\n",
              "         5.1757e-09, 9.8919e-06, 2.8855e-11, 6.8229e-09, 1.6888e-05, 3.5133e-07,\n",
              "         1.1356e-09, 7.1008e-08, 2.2121e-06],\n",
              "        [3.3141e-10, 4.6885e-08, 3.5020e-12, 2.4602e-07, 1.2174e-09, 9.6461e-08,\n",
              "         9.8795e-10, 1.2591e-03, 9.7408e-07, 5.9311e-07, 3.9282e-06, 1.2873e-06,\n",
              "         8.7118e-04, 1.9973e-02, 9.2650e-01, 1.9643e-08, 2.2604e-10, 6.4377e-08,\n",
              "         5.1262e-02, 1.6330e-06, 4.3960e-08, 5.3404e-07, 8.8265e-06, 3.1300e-05,\n",
              "         8.1792e-05, 1.1000e-10, 2.5436e-07],\n",
              "        [5.6270e-10, 7.7968e-08, 1.7827e-07, 1.8348e-07, 3.0081e-06, 2.6984e-05,\n",
              "         1.7849e-08, 7.2038e-06, 3.1078e-10, 8.5513e-07, 2.0048e-14, 1.5745e-05,\n",
              "         1.0339e-05, 2.8027e-09, 4.5970e-09, 2.8097e-04, 2.3209e-10, 1.0675e-10,\n",
              "         6.0042e-07, 9.7163e-01, 2.8463e-12, 2.7958e-02, 1.1571e-05, 6.5824e-06,\n",
              "         4.3321e-05, 3.3115e-09, 3.4677e-09],\n",
              "        [1.7932e-10, 8.0810e-07, 9.5755e-09, 7.5712e-08, 4.9346e-05, 7.5784e-09,\n",
              "         3.1994e-08, 2.6237e-04, 1.7826e-06, 3.3586e-06, 2.9079e-10, 1.2489e-04,\n",
              "         9.3864e-07, 3.2703e-07, 5.8598e-07, 7.8352e-01, 5.7122e-13, 3.3188e-03,\n",
              "         4.4134e-07, 2.1248e-01, 7.9128e-08, 9.0445e-05, 4.2536e-05, 5.2393e-08,\n",
              "         9.5698e-05, 2.1694e-10, 2.9780e-06],\n",
              "        [2.3202e-12, 3.1168e-04, 4.4980e-11, 5.6852e-06, 6.7054e-08, 2.0600e-08,\n",
              "         2.2896e-05, 9.5011e-01, 3.0219e-04, 7.9840e-05, 8.8844e-10, 2.8514e-04,\n",
              "         2.7442e-06, 4.4024e-02, 5.3591e-04, 9.8773e-06, 9.5395e-09, 1.2730e-06,\n",
              "         1.4777e-06, 9.0650e-06, 3.3800e-11, 4.7665e-05, 3.6735e-04, 9.7791e-05,\n",
              "         3.7861e-03, 3.0118e-10, 3.3446e-07],\n",
              "        [7.2297e-13, 4.8127e-04, 2.7731e-08, 9.7020e-09, 9.7807e-08, 3.0442e-07,\n",
              "         3.0607e-12, 9.5326e-05, 9.5357e-07, 2.2891e-06, 3.0448e-12, 9.1373e-03,\n",
              "         9.8273e-12, 5.6478e-11, 2.2871e-10, 9.9021e-01, 7.1393e-13, 1.3414e-10,\n",
              "         2.1418e-06, 6.6815e-05, 1.0292e-13, 2.9482e-06, 9.7803e-07, 1.7489e-07,\n",
              "         9.5286e-09, 8.6796e-10, 1.1681e-06],\n",
              "        [2.3737e-09, 6.3070e-10, 5.3480e-14, 2.8249e-06, 5.5727e-10, 9.6230e-10,\n",
              "         6.6753e-09, 4.1582e-04, 3.7556e-09, 1.8956e-05, 4.1369e-09, 2.9005e-07,\n",
              "         2.6025e-07, 3.4837e-01, 2.3305e-01, 9.2684e-08, 2.0946e-09, 1.9036e-08,\n",
              "         3.7608e-01, 4.1424e-02, 2.4911e-09, 9.5167e-05, 6.9434e-09, 1.4306e-06,\n",
              "         5.4328e-04, 2.0890e-12, 1.1442e-09],\n",
              "        [5.0356e-12, 6.6786e-09, 3.8007e-09, 3.1332e-10, 3.3225e-07, 2.6082e-07,\n",
              "         1.9741e-09, 3.9399e-05, 3.2284e-11, 6.2355e-09, 1.0847e-13, 4.0314e-06,\n",
              "         2.5507e-04, 7.3222e-13, 8.1680e-12, 9.1850e-04, 3.7183e-11, 3.3329e-08,\n",
              "         2.1084e-07, 9.6206e-01, 9.6673e-13, 3.6300e-02, 4.0932e-04, 8.3118e-08,\n",
              "         1.0282e-05, 1.5745e-09, 9.3837e-08],\n",
              "        [2.3202e-12, 3.1168e-04, 4.4980e-11, 5.6852e-06, 6.7054e-08, 2.0600e-08,\n",
              "         2.2896e-05, 9.5011e-01, 3.0219e-04, 7.9840e-05, 8.8844e-10, 2.8514e-04,\n",
              "         2.7442e-06, 4.4024e-02, 5.3591e-04, 9.8773e-06, 9.5395e-09, 1.2730e-06,\n",
              "         1.4777e-06, 9.0650e-06, 3.3800e-11, 4.7665e-05, 3.6735e-04, 9.7791e-05,\n",
              "         3.7861e-03, 3.0118e-10, 3.3446e-07],\n",
              "        [2.6565e-12, 2.5746e-03, 3.1068e-09, 9.8994e-08, 5.9126e-07, 2.0568e-07,\n",
              "         4.3489e-09, 4.9579e-04, 2.2634e-06, 7.2218e-06, 6.4523e-11, 8.6967e-03,\n",
              "         2.7311e-10, 1.2220e-08, 4.1327e-09, 9.8806e-01, 2.1974e-11, 5.3408e-10,\n",
              "         4.5285e-07, 1.3928e-04, 4.3468e-13, 2.4108e-06, 5.2071e-06, 8.9888e-07,\n",
              "         1.1011e-05, 1.5723e-09, 1.5508e-07],\n",
              "        [3.7629e-09, 3.9598e-08, 6.4360e-13, 2.4587e-07, 1.9299e-10, 1.7338e-08,\n",
              "         4.0793e-09, 7.1710e-02, 3.1680e-06, 1.7683e-05, 1.9910e-09, 9.5510e-07,\n",
              "         3.0335e-05, 4.8131e-01, 5.0247e-02, 8.2888e-08, 4.2119e-08, 1.1094e-06,\n",
              "         3.9502e-01, 8.5478e-04, 2.8474e-09, 6.6715e-04, 1.2870e-06, 5.1543e-05,\n",
              "         7.8677e-05, 1.0169e-10, 3.3157e-07],\n",
              "        [7.5460e-11, 6.5528e-08, 3.1209e-07, 1.0371e-08, 4.1323e-07, 1.9201e-05,\n",
              "         1.1786e-09, 1.9019e-06, 3.0642e-10, 7.0461e-07, 5.8556e-15, 2.4829e-06,\n",
              "         3.0821e-05, 4.1711e-11, 5.8480e-10, 1.0188e-05, 1.0241e-11, 2.0436e-10,\n",
              "         6.9662e-07, 9.9778e-01, 3.6313e-12, 2.1351e-03, 4.8075e-06, 1.0764e-05,\n",
              "         6.1831e-07, 2.6394e-10, 1.1831e-08],\n",
              "        [1.4046e-07, 2.9155e-07, 7.5781e-12, 9.3104e-04, 2.4866e-03, 8.1682e-10,\n",
              "         1.8670e-04, 6.7411e-04, 1.4738e-08, 7.2234e-06, 5.6124e-03, 1.4225e-04,\n",
              "         8.5775e-07, 1.9770e-02, 4.8074e-01, 1.0773e-04, 1.0496e-05, 4.5746e-06,\n",
              "         1.9004e-03, 7.8880e-03, 4.4189e-05, 3.1797e-03, 3.9711e-08, 5.0457e-07,\n",
              "         4.7631e-01, 5.4037e-11, 7.7888e-09],\n",
              "        [9.3173e-17, 3.0426e-09, 2.1224e-12, 9.9390e-14, 8.1941e-12, 8.9486e-11,\n",
              "         7.1633e-13, 4.4526e-03, 3.0498e-09, 2.3321e-13, 8.4453e-14, 2.3709e-11,\n",
              "         1.0109e-05, 2.0312e-09, 6.3081e-13, 1.4066e-08, 1.6050e-10, 7.4911e-10,\n",
              "         2.2050e-09, 7.4147e-08, 3.2462e-17, 6.7165e-02, 9.2833e-01, 6.3910e-10,\n",
              "         1.3876e-09, 1.7207e-14, 3.8351e-05],\n",
              "        [2.7280e-10, 5.8272e-03, 2.7880e-08, 2.2516e-01, 5.1612e-05, 9.8363e-09,\n",
              "         4.8032e-05, 3.4219e-06, 2.0973e-07, 2.5688e-02, 1.0213e-10, 1.6933e-06,\n",
              "         4.4651e-09, 2.1011e-01, 3.9140e-01, 3.4309e-08, 1.3385e-11, 4.6499e-09,\n",
              "         5.9283e-03, 2.9313e-07, 2.1180e-07, 1.0812e-07, 1.6172e-09, 1.2319e-03,\n",
              "         1.3455e-01, 5.7330e-08, 3.4679e-11],\n",
              "        [7.1163e-15, 4.8058e-03, 3.3907e-11, 4.6165e-03, 5.9829e-06, 6.9771e-09,\n",
              "         1.2537e-05, 7.2050e-01, 2.1124e-05, 1.0343e-07, 8.6823e-06, 4.1888e-02,\n",
              "         1.6845e-06, 1.0048e-01, 6.5566e-07, 9.6954e-03, 6.6309e-05, 2.6702e-04,\n",
              "         5.8669e-12, 5.6833e-05, 4.8710e-10, 4.7369e-02, 4.1004e-02, 6.8748e-06,\n",
              "         6.3825e-03, 4.4213e-12, 2.2810e-02],\n",
              "        [1.1706e-11, 9.0757e-06, 9.7273e-07, 5.3760e-10, 2.7340e-08, 3.2171e-05,\n",
              "         3.2280e-16, 8.5269e-07, 6.2355e-07, 7.9845e-07, 6.5768e-11, 6.6267e-04,\n",
              "         1.2541e-10, 2.0112e-10, 4.4818e-11, 9.9926e-01, 1.2495e-13, 2.6231e-10,\n",
              "         1.7111e-07, 5.9339e-06, 2.7370e-12, 2.4928e-08, 2.3862e-05, 2.0215e-07,\n",
              "         3.7993e-11, 1.1067e-07, 6.1562e-06],\n",
              "        [2.3202e-12, 3.1168e-04, 4.4980e-11, 5.6852e-06, 6.7054e-08, 2.0600e-08,\n",
              "         2.2896e-05, 9.5011e-01, 3.0219e-04, 7.9840e-05, 8.8844e-10, 2.8514e-04,\n",
              "         2.7442e-06, 4.4024e-02, 5.3591e-04, 9.8773e-06, 9.5395e-09, 1.2730e-06,\n",
              "         1.4777e-06, 9.0650e-06, 3.3800e-11, 4.7665e-05, 3.6735e-04, 9.7791e-05,\n",
              "         3.7861e-03, 3.0118e-10, 3.3446e-07],\n",
              "        [3.3190e-12, 7.0878e-05, 2.5652e-11, 2.5612e-08, 4.1497e-10, 7.4734e-07,\n",
              "         9.5599e-07, 9.3846e-01, 6.8816e-06, 2.7330e-05, 1.0948e-11, 1.0483e-05,\n",
              "         5.2964e-05, 7.0344e-03, 3.5894e-07, 2.8105e-06, 9.7789e-07, 8.5707e-10,\n",
              "         1.4651e-05, 1.4112e-06, 5.6742e-15, 4.2421e-05, 4.3857e-02, 1.0358e-02,\n",
              "         5.2365e-05, 2.2098e-09, 1.4404e-06],\n",
              "        [3.2310e-10, 1.9110e-05, 1.0477e-10, 3.0387e-03, 1.9571e-05, 4.9927e-08,\n",
              "         2.3731e-04, 4.1585e-04, 3.9101e-06, 1.4866e-02, 3.6317e-08, 4.5125e-05,\n",
              "         1.0174e-05, 2.0926e-01, 7.3808e-03, 1.1997e-08, 1.8579e-09, 1.0603e-07,\n",
              "         7.4588e-01, 1.4771e-06, 2.5838e-08, 1.0523e-02, 6.0240e-07, 1.4300e-04,\n",
              "         8.1595e-03, 2.4405e-09, 6.8298e-09],\n",
              "        [3.7213e-12, 6.6518e-03, 2.2134e-09, 4.4179e-04, 4.8847e-02, 1.9379e-07,\n",
              "         6.7738e-03, 6.2885e-02, 1.3928e-04, 1.4159e-03, 8.3329e-08, 6.9597e-01,\n",
              "         5.4855e-07, 3.9144e-06, 8.7460e-09, 1.3455e-01, 3.1423e-07, 2.9564e-08,\n",
              "         6.3462e-11, 1.2762e-03, 6.7976e-11, 1.6451e-02, 8.0438e-05, 8.3764e-06,\n",
              "         2.4489e-02, 8.1856e-10, 1.5507e-05],\n",
              "        [2.9939e-13, 7.0324e-06, 3.7012e-11, 7.2457e-07, 7.8175e-06, 2.5613e-11,\n",
              "         3.1672e-10, 6.3195e-05, 3.3571e-05, 4.6090e-09, 8.2461e-04, 4.5390e-05,\n",
              "         6.0517e-07, 8.9915e-05, 9.7695e-01, 2.0619e-02, 6.6006e-12, 1.2166e-03,\n",
              "         7.4146e-09, 1.7909e-08, 8.1831e-09, 3.8702e-08, 1.3386e-04, 5.7665e-08,\n",
              "         8.4660e-06, 5.0768e-14, 4.2471e-07],\n",
              "        [5.0963e-09, 3.9870e-05, 1.4398e-07, 4.5561e-07, 5.7995e-05, 6.1688e-05,\n",
              "         4.3363e-08, 6.7947e-03, 1.0804e-03, 2.2363e-03, 5.0373e-08, 1.6047e-02,\n",
              "         3.5493e-05, 1.1713e-07, 2.2255e-05, 1.6318e-01, 1.1789e-07, 1.0405e-07,\n",
              "         6.5293e-05, 5.9614e-01, 7.1264e-12, 2.0450e-01, 9.7170e-03, 1.3320e-06,\n",
              "         1.3271e-05, 4.0122e-09, 4.1592e-06],\n",
              "        [8.1605e-10, 5.0557e-09, 5.5857e-09, 3.1219e-09, 5.0088e-08, 1.1616e-08,\n",
              "         1.2928e-10, 1.8249e-07, 8.6742e-07, 1.9175e-06, 2.4830e-12, 2.5720e-06,\n",
              "         1.1615e-06, 8.9277e-10, 7.7918e-06, 1.7514e-05, 6.9338e-13, 8.5961e-08,\n",
              "         3.7578e-06, 9.9995e-01, 1.2661e-10, 9.8343e-06, 4.8652e-07, 2.8872e-07,\n",
              "         3.1862e-08, 2.9967e-12, 5.5795e-08]])"
            ]
          },
          "metadata": {},
          "execution_count": 131
        }
      ]
    },
    {
      "cell_type": "code",
      "source": [
        "prob[0].sum()"
      ],
      "metadata": {
        "colab": {
          "base_uri": "https://localhost:8080/"
        },
        "id": "c9Dl6NaUxunL",
        "outputId": "b983aba4-e236-4b19-e37b-79977c8b585c"
      },
      "execution_count": 132,
      "outputs": [
        {
          "output_type": "execute_result",
          "data": {
            "text/plain": [
              "tensor(1.)"
            ]
          },
          "metadata": {},
          "execution_count": 132
        }
      ]
    },
    {
      "cell_type": "markdown",
      "source": [
        "### We would like to index into the prob and pluck out the probability assigned to the correct character"
      ],
      "metadata": {
        "id": "Kznw_NZKx553"
      }
    },
    {
      "cell_type": "code",
      "source": [
        "loss = -prob[torch.arange(32), Y].log().mean()\n",
        "loss"
      ],
      "metadata": {
        "colab": {
          "base_uri": "https://localhost:8080/"
        },
        "id": "7iUu8vNlyaH9",
        "outputId": "13e34e8b-f03b-4fcb-9d54-924bcd295eb1"
      },
      "execution_count": 133,
      "outputs": [
        {
          "output_type": "execute_result",
          "data": {
            "text/plain": [
              "tensor(14.8587)"
            ]
          },
          "metadata": {},
          "execution_count": 133
        }
      ]
    },
    {
      "cell_type": "code",
      "source": [
        "Y"
      ],
      "metadata": {
        "colab": {
          "base_uri": "https://localhost:8080/"
        },
        "id": "Q3Ktn-m1xyed",
        "outputId": "7131f497-90f6-4e18-af1d-d91196572ea0"
      },
      "execution_count": 134,
      "outputs": [
        {
          "output_type": "execute_result",
          "data": {
            "text/plain": [
              "tensor([ 5, 13, 13,  1,  0, 15, 12,  9, 22,  9,  1,  0,  1, 22,  1,  0,  9, 19,\n",
              "         1,  2,  5, 12, 12,  1,  0, 19, 15, 16,  8,  9,  1,  0])"
            ]
          },
          "metadata": {},
          "execution_count": 134
        }
      ]
    },
    {
      "cell_type": "markdown",
      "source": [
        "## Just rewriting it"
      ],
      "metadata": {
        "id": "dqmGvVSHx1_T"
      }
    },
    {
      "cell_type": "code",
      "source": [
        "X.shape, Y.shape  # dataset"
      ],
      "metadata": {
        "colab": {
          "base_uri": "https://localhost:8080/"
        },
        "id": "HgddkEGq0Uyg",
        "outputId": "0d0f5276-7ecc-46aa-e222-effd7829bc71"
      },
      "execution_count": 211,
      "outputs": [
        {
          "output_type": "execute_result",
          "data": {
            "text/plain": [
              "(torch.Size([32, 3]), torch.Size([32]))"
            ]
          },
          "metadata": {},
          "execution_count": 211
        }
      ]
    },
    {
      "cell_type": "code",
      "source": [
        "g = torch.Generator().manual_seed(2147483647) # for reproducibility\n",
        "C = torch.randn((27, 2), generator=g)\n",
        "W1 = torch.randn((6, 100), generator=g)\n",
        "b1 = torch.randn(100, generator=g)\n",
        "W2 = torch.randn((100, 27), generator=g)\n",
        "b2 = torch.randn(27, generator=g)\n",
        "parameters = [C, W1, b1, W2, b2]"
      ],
      "metadata": {
        "id": "NjIGZB6W0UwL"
      },
      "execution_count": 212,
      "outputs": []
    },
    {
      "cell_type": "code",
      "source": [
        "sum(p.nelement() for p in parameters) # number of parameters in total\n"
      ],
      "metadata": {
        "colab": {
          "base_uri": "https://localhost:8080/"
        },
        "id": "3H_0YgqO0Upv",
        "outputId": "564d028f-8aef-46b9-fe12-feb43e34f93a"
      },
      "execution_count": 213,
      "outputs": [
        {
          "output_type": "execute_result",
          "data": {
            "text/plain": [
              "3481"
            ]
          },
          "metadata": {},
          "execution_count": 213
        }
      ]
    },
    {
      "cell_type": "code",
      "source": [
        "emb = C[X] # (32, 3, 2)\n",
        "h = torch.tanh(emb.view(-1, 6) @ W1 + b1) # (32, 100)\n",
        "logits = h @ W2 + b2 # (32, 27)\n",
        "counts = logits.exp()\n",
        "prob = counts / counts.sum(1, keepdims=True)\n",
        "loss = -prob[torch.arange(32), Y].log().mean()\n",
        "loss"
      ],
      "metadata": {
        "colab": {
          "base_uri": "https://localhost:8080/"
        },
        "id": "WL4DuvxA1AJG",
        "outputId": "1322e03a-b97a-4ae1-c67d-09c3b8584c05"
      },
      "execution_count": 140,
      "outputs": [
        {
          "output_type": "execute_result",
          "data": {
            "text/plain": [
              "tensor(17.7697)"
            ]
          },
          "metadata": {},
          "execution_count": 140
        }
      ]
    },
    {
      "cell_type": "code",
      "source": [
        "F.cross_entropy(logits, Y)"
      ],
      "metadata": {
        "colab": {
          "base_uri": "https://localhost:8080/"
        },
        "id": "_KWiwew71tsh",
        "outputId": "be5b05ce-f4f5-456b-c7d2-c7a6a1f41222"
      },
      "execution_count": 141,
      "outputs": [
        {
          "output_type": "execute_result",
          "data": {
            "text/plain": [
              "tensor(17.7697)"
            ]
          },
          "metadata": {},
          "execution_count": 141
        }
      ]
    },
    {
      "cell_type": "code",
      "source": [
        "emb = C[X] # (32, 3, 2)\n",
        "h = torch.tanh(emb.view(-1, 6) @ W1 + b1) # (32, 100)\n",
        "logits = h @ W2 + b2 # (32, 27)\n",
        "loss = F.cross_entropy(logits, Y)\n",
        "loss"
      ],
      "metadata": {
        "colab": {
          "base_uri": "https://localhost:8080/"
        },
        "id": "Jp9wCsfY18fV",
        "outputId": "161fbf16-8782-4326-a597-628a505ebee3"
      },
      "execution_count": 142,
      "outputs": [
        {
          "output_type": "execute_result",
          "data": {
            "text/plain": [
              "tensor(17.7697)"
            ]
          },
          "metadata": {},
          "execution_count": 142
        }
      ]
    },
    {
      "cell_type": "markdown",
      "source": [
        "Reason to use `F.cross_entropy()`\n",
        "* The forward pass is much more efficient\n",
        "* The backward pass is much more efficient\n",
        "* Things will be much more numerically well behaved\n"
      ],
      "metadata": {
        "id": "8TeRnm9W2FHL"
      }
    },
    {
      "cell_type": "code",
      "source": [
        "for p in parameters:\n",
        "  p.requires_grad = True\n",
        "\n",
        "for _ in range(1000):\n",
        "\n",
        "  # Forward pass\n",
        "  emb = C[X] # (32, 3, 2)\n",
        "  h = torch.tanh(emb.view(-1, 6) @ W1 + b1) # (32, 100)\n",
        "  logits = h @ W2 + b2 # (32, 27)\n",
        "\n",
        "  loss = F.cross_entropy(logits, Y)\n",
        "  print(loss.item())\n",
        "\n",
        "  # Backward pass\n",
        "  for p in parameters:\n",
        "    p.grad = None\n",
        "\n",
        "  loss.backward()\n",
        "\n",
        "  # Update\n",
        "  for p in parameters:\n",
        "    p.data += -0.1 * p.grad"
      ],
      "metadata": {
        "colab": {
          "base_uri": "https://localhost:8080/"
        },
        "collapsed": true,
        "id": "3wvXszUx3Xeu",
        "outputId": "990cc3ab-5eec-479c-fef4-405fad69e75a"
      },
      "execution_count": 146,
      "outputs": [
        {
          "output_type": "stream",
          "name": "stdout",
          "text": [
            "0.32326310873031616\n",
            "0.32212790846824646\n",
            "0.3210112452507019\n",
            "0.31991392374038696\n",
            "0.3188367187976837\n",
            "0.3177804946899414\n",
            "0.3167456388473511\n",
            "0.3157329261302948\n",
            "0.3147425055503845\n",
            "0.3137744665145874\n",
            "0.31282925605773926\n",
            "0.3119068443775177\n",
            "0.31100693345069885\n",
            "0.3101294934749603\n",
            "0.3092743456363678\n",
            "0.3084409832954407\n",
            "0.3076290488243103\n",
            "0.3068382740020752\n",
            "0.3060680627822876\n",
            "0.30531787872314453\n",
            "0.3045872747898102\n",
            "0.30387556552886963\n",
            "0.30318230390548706\n",
            "0.3025069534778595\n",
            "0.3018489480018616\n",
            "0.3012077808380127\n",
            "0.3005827069282532\n",
            "0.29997342824935913\n",
            "0.29937928915023804\n",
            "0.2987998127937317\n",
            "0.2982344627380371\n",
            "0.29768285155296326\n",
            "0.29714444279670715\n",
            "0.296618789434433\n",
            "0.2961055636405945\n",
            "0.29560422897338867\n",
            "0.29511433839797974\n",
            "0.29463568329811096\n",
            "0.29416775703430176\n",
            "0.2937103509902954\n",
            "0.29326295852661133\n",
            "0.2928251624107361\n",
            "0.2923969030380249\n",
            "0.2919778525829315\n",
            "0.29156750440597534\n",
            "0.2911657392978668\n",
            "0.29077231884002686\n",
            "0.2903868854045868\n",
            "0.29000917077064514\n",
            "0.28963905572891235\n",
            "0.2892763018608093\n",
            "0.28892049193382263\n",
            "0.28857165575027466\n",
            "0.28822949528694153\n",
            "0.28789377212524414\n",
            "0.2875644862651825\n",
            "0.2872411906719208\n",
            "0.286923885345459\n",
            "0.286612331867218\n",
            "0.28630638122558594\n",
            "0.2860059142112732\n",
            "0.28571078181266785\n",
            "0.2854207754135132\n",
            "0.28513583540916443\n",
            "0.28485575318336487\n",
            "0.28458043932914734\n",
            "0.2843098044395447\n",
            "0.28404366970062256\n",
            "0.2837819755077362\n",
            "0.2835245132446289\n",
            "0.28327125310897827\n",
            "0.2830221354961395\n",
            "0.28277695178985596\n",
            "0.28253573179244995\n",
            "0.28229817748069763\n",
            "0.28206440806388855\n",
            "0.281834214925766\n",
            "0.28160756826400757\n",
            "0.28138431906700134\n",
            "0.2811645269393921\n",
            "0.2809479534626007\n",
            "0.2807345986366272\n",
            "0.2805243730545044\n",
            "0.2803172469139099\n",
            "0.2801131010055542\n",
            "0.27991193532943726\n",
            "0.27971360087394714\n",
            "0.2795180678367615\n",
            "0.2793252170085907\n",
            "0.279135137796402\n",
            "0.2789476215839386\n",
            "0.2787627577781677\n",
            "0.2785803973674774\n",
            "0.2784004807472229\n",
            "0.2782229483127594\n",
            "0.2780478000640869\n",
            "0.27787503600120544\n",
            "0.27770447731018066\n",
            "0.27753615379333496\n",
            "0.27737003564834595\n",
            "0.2772060036659241\n",
            "0.2770441472530365\n",
            "0.2768842875957489\n",
            "0.27672645449638367\n",
            "0.2765706181526184\n",
            "0.27641668915748596\n",
            "0.2762647271156311\n",
            "0.2761145234107971\n",
            "0.27596622705459595\n",
            "0.27581968903541565\n",
            "0.275674968957901\n",
            "0.27553194761276245\n",
            "0.2753906548023224\n",
            "0.27525097131729126\n",
            "0.27511298656463623\n",
            "0.27497658133506775\n",
            "0.2748417556285858\n",
            "0.27470850944519043\n",
            "0.2745767831802368\n",
            "0.2744465470314026\n",
            "0.27431780099868774\n",
            "0.2741905152797699\n",
            "0.2740646004676819\n",
            "0.2739401161670685\n",
            "0.2738170325756073\n",
            "0.2736952602863312\n",
            "0.2735748291015625\n",
            "0.27345576882362366\n",
            "0.2733379006385803\n",
            "0.27322134375572205\n",
            "0.27310600876808167\n",
            "0.27299192547798157\n",
            "0.27287906408309937\n",
            "0.2727673649787903\n",
            "0.27265679836273193\n",
            "0.2725474536418915\n",
            "0.27243921160697937\n",
            "0.2723320424556732\n",
            "0.2722259759902954\n",
            "0.27212101221084595\n",
            "0.27201712131500244\n",
            "0.2719142436981201\n",
            "0.27181240916252136\n",
            "0.2717116177082062\n",
            "0.2716118097305298\n",
            "0.2715129256248474\n",
            "0.271415114402771\n",
            "0.2713181674480438\n",
            "0.27122223377227783\n",
            "0.2711271345615387\n",
            "0.27103301882743835\n",
            "0.27093976736068726\n",
            "0.27084746956825256\n",
            "0.2707560360431671\n",
            "0.27066537737846375\n",
            "0.2705756425857544\n",
            "0.2704866826534271\n",
            "0.2703985869884491\n",
            "0.2703113257884979\n",
            "0.2702248692512512\n",
            "0.2701391577720642\n",
            "0.27005425095558167\n",
            "0.2699700891971588\n",
            "0.26988673210144043\n",
            "0.26980412006378174\n",
            "0.26972219347953796\n",
            "0.26964107155799866\n",
            "0.26956066489219666\n",
            "0.2694808542728424\n",
            "0.26940181851387024\n",
            "0.2693234980106354\n",
            "0.26924583315849304\n",
            "0.26916882395744324\n",
            "0.26909250020980835\n",
            "0.26901689171791077\n",
            "0.26894181966781616\n",
            "0.2688674330711365\n",
            "0.26879367232322693\n",
            "0.2687205374240875\n",
            "0.2686479985713959\n",
            "0.26857611536979675\n",
            "0.268504798412323\n",
            "0.268434077501297\n",
            "0.26836395263671875\n",
            "0.2682943642139435\n",
            "0.26822537183761597\n",
            "0.2681569755077362\n",
            "0.26808905601501465\n",
            "0.2680217921733856\n",
            "0.2679549753665924\n",
            "0.26788872480392456\n",
            "0.2678229808807373\n",
            "0.267757773399353\n",
            "0.26769310235977173\n",
            "0.2676289677619934\n",
            "0.2675653100013733\n",
            "0.267502099275589\n",
            "0.26743942499160767\n",
            "0.2673772871494293\n",
            "0.267315536737442\n",
            "0.2672542929649353\n",
            "0.2671935558319092\n",
            "0.2671332359313965\n",
            "0.267073392868042\n",
            "0.2670140564441681\n",
            "0.26695507764816284\n",
            "0.2668965756893158\n",
            "0.2668384909629822\n",
            "0.26678094267845154\n",
            "0.2667236924171448\n",
            "0.2666669189929962\n",
            "0.26661059260368347\n",
            "0.26655468344688416\n",
            "0.2664991617202759\n",
            "0.26644399762153625\n",
            "0.26638925075531006\n",
            "0.2663349509239197\n",
            "0.26628103852272034\n",
            "0.26622748374938965\n",
            "0.26617431640625\n",
            "0.2661215364933014\n",
            "0.2660691738128662\n",
            "0.2660171389579773\n",
            "0.26596543192863464\n",
            "0.26591411232948303\n",
            "0.26586323976516724\n",
            "0.26581260561943054\n",
            "0.2657623887062073\n",
            "0.2657124996185303\n",
            "0.2656629681587219\n",
            "0.2656137943267822\n",
            "0.265564888715744\n",
            "0.26551640033721924\n",
            "0.26546818017959595\n",
            "0.2654203176498413\n",
            "0.26537278294563293\n",
            "0.26532551646232605\n",
            "0.2652786672115326\n",
            "0.26523205637931824\n",
            "0.26518577337265015\n",
            "0.2651398479938507\n",
            "0.26509416103363037\n",
            "0.2650488018989563\n",
            "0.2650037109851837\n",
            "0.264958918094635\n",
            "0.26491448283195496\n",
            "0.264870285987854\n",
            "0.2648264169692993\n",
            "0.26478275656700134\n",
            "0.2647395133972168\n",
            "0.2646964192390442\n",
            "0.26465362310409546\n",
            "0.264611154794693\n",
            "0.26456886529922485\n",
            "0.26452696323394775\n",
            "0.264485239982605\n",
            "0.26444384455680847\n",
            "0.2644026577472687\n",
            "0.26436173915863037\n",
            "0.26432108879089355\n",
            "0.2642807066440582\n",
            "0.264240562915802\n",
            "0.2642006278038025\n",
            "0.26416099071502686\n",
            "0.26412156224250793\n",
            "0.2640823721885681\n",
            "0.26404350996017456\n",
            "0.26400482654571533\n",
            "0.2639663517475128\n",
            "0.2639281153678894\n",
            "0.2638901174068451\n",
            "0.26385238766670227\n",
            "0.26381486654281616\n",
            "0.263777494430542\n",
            "0.2637404799461365\n",
            "0.2637036144733429\n",
            "0.26366695761680603\n",
            "0.26363053917884827\n",
            "0.26359429955482483\n",
            "0.2635582983493805\n",
            "0.26352256536483765\n",
            "0.26348695158958435\n",
            "0.26345160603523254\n",
            "0.2634164094924927\n",
            "0.2633815109729767\n",
            "0.26334673166275024\n",
            "0.2633121907711029\n",
            "0.2632778584957123\n",
            "0.263243705034256\n",
            "0.263209730386734\n",
            "0.26317596435546875\n",
            "0.2631424367427826\n",
            "0.263109028339386\n",
            "0.26307588815689087\n",
            "0.2630428671836853\n",
            "0.26301008462905884\n",
            "0.2629774510860443\n",
            "0.2629450261592865\n",
            "0.262912780046463\n",
            "0.26288074254989624\n",
            "0.2628488838672638\n",
            "0.2628172039985657\n",
            "0.26278573274612427\n",
            "0.2627544105052948\n",
            "0.26272332668304443\n",
            "0.262692391872406\n",
            "0.2626616656780243\n",
            "0.2626311182975769\n",
            "0.26260077953338623\n",
            "0.2625706195831299\n",
            "0.262540727853775\n",
            "0.2625110149383545\n",
            "0.2624814808368683\n",
            "0.26245227456092834\n",
            "0.26242324709892273\n",
            "0.2623944878578186\n",
            "0.26236602663993835\n",
            "0.2623378336429596\n",
            "0.2623099386692047\n",
            "0.26228243112564087\n",
            "0.2622552812099457\n",
            "0.2622286379337311\n",
            "0.26220235228538513\n",
            "0.2621767520904541\n",
            "0.2621515989303589\n",
            "0.2621273398399353\n",
            "0.2621036767959595\n",
            "0.26208120584487915\n",
            "0.26205945014953613\n",
            "0.26203933358192444\n",
            "0.2620202302932739\n",
            "0.26200342178344727\n",
            "0.2619878053665161\n",
            "0.26197558641433716\n",
            "0.26196467876434326\n",
            "0.2619588077068329\n",
            "0.26195433735847473\n",
            "0.2619572579860687\n",
            "0.2619614601135254\n",
            "0.2619766592979431\n",
            "0.26199233531951904\n",
            "0.2620243430137634\n",
            "0.26205480098724365\n",
            "0.26210957765579224\n",
            "0.2621583342552185\n",
            "0.2622428834438324\n",
            "0.2623128890991211\n",
            "0.2624351680278778\n",
            "0.26252737641334534\n",
            "0.26269441843032837\n",
            "0.26280564069747925\n",
            "0.26302146911621094\n",
            "0.26314181089401245\n",
            "0.2634044885635376\n",
            "0.26351627707481384\n",
            "0.26381611824035645\n",
            "0.26389580965042114\n",
            "0.2642153799533844\n",
            "0.26423951983451843\n",
            "0.2645586431026459\n",
            "0.2645118534564972\n",
            "0.26481375098228455\n",
            "0.2646935284137726\n",
            "0.26496851444244385\n",
            "0.26478448510169983\n",
            "0.2650309205055237\n",
            "0.26479923725128174\n",
            "0.2650201618671417\n",
            "0.2647578716278076\n",
            "0.2649582624435425\n",
            "0.2646792531013489\n",
            "0.26486366987228394\n",
            "0.264577716588974\n",
            "0.2647497057914734\n",
            "0.2644633650779724\n",
            "0.26462528109550476\n",
            "0.2643424868583679\n",
            "0.2644961476325989\n",
            "0.26421913504600525\n",
            "0.26436570286750793\n",
            "0.2640955448150635\n",
            "0.26423579454421997\n",
            "0.2639732360839844\n",
            "0.2641075551509857\n",
            "0.26385268568992615\n",
            "0.26398172974586487\n",
            "0.2637345790863037\n",
            "0.2638586461544037\n",
            "0.2636190950870514\n",
            "0.26373839378356934\n",
            "0.26350611448287964\n",
            "0.26362109184265137\n",
            "0.26339614391326904\n",
            "0.26350682973861694\n",
            "0.2632887363433838\n",
            "0.2633957266807556\n",
            "0.26318421959877014\n",
            "0.26328733563423157\n",
            "0.2630823254585266\n",
            "0.2631819546222687\n",
            "0.26298296451568604\n",
            "0.26307931542396545\n",
            "0.2628861367702484\n",
            "0.2629792392253876\n",
            "0.2627916932106018\n",
            "0.2628817558288574\n",
            "0.2626994550228119\n",
            "0.2627865672111511\n",
            "0.26260942220687866\n",
            "0.26269370317459106\n",
            "0.26252156496047974\n",
            "0.2626032829284668\n",
            "0.26243582367897034\n",
            "0.26251494884490967\n",
            "0.262351930141449\n",
            "0.26242876052856445\n",
            "0.2622702121734619\n",
            "0.26234468817710876\n",
            "0.2621902823448181\n",
            "0.2622625231742859\n",
            "0.2621120512485504\n",
            "0.2621822655200958\n",
            "0.262035608291626\n",
            "0.262103796005249\n",
            "0.26196083426475525\n",
            "0.26202717423439026\n",
            "0.26188772916793823\n",
            "0.26195231080055237\n",
            "0.26181623339653015\n",
            "0.26187899708747864\n",
            "0.26174622774124146\n",
            "0.26180729269981384\n",
            "0.26167765259742737\n",
            "0.261737197637558\n",
            "0.2616104781627655\n",
            "0.2616684138774872\n",
            "0.2615446150302887\n",
            "0.261601060628891\n",
            "0.2614799737930298\n",
            "0.26153498888015747\n",
            "0.2614167034626007\n",
            "0.2614705562591553\n",
            "0.2613547742366791\n",
            "0.2614073157310486\n",
            "0.26129409670829773\n",
            "0.26134541630744934\n",
            "0.26123446226119995\n",
            "0.26128458976745605\n",
            "0.26117587089538574\n",
            "0.2612248361110687\n",
            "0.26111844182014465\n",
            "0.2611663341522217\n",
            "0.26106199622154236\n",
            "0.2611088454723358\n",
            "0.26100656390190125\n",
            "0.2610524892807007\n",
            "0.2609522044658661\n",
            "0.26099708676338196\n",
            "0.26089876890182495\n",
            "0.2609427869319916\n",
            "0.26084619760513306\n",
            "0.26088929176330566\n",
            "0.2607945501804352\n",
            "0.2608368396759033\n",
            "0.2607438564300537\n",
            "0.2607852816581726\n",
            "0.2606939375400543\n",
            "0.2607346177101135\n",
            "0.2606448531150818\n",
            "0.2606848478317261\n",
            "0.2605966031551361\n",
            "0.2606358528137207\n",
            "0.26054906845092773\n",
            "0.2605876326560974\n",
            "0.26050230860710144\n",
            "0.2605401575565338\n",
            "0.26045623421669006\n",
            "0.2604934275150299\n",
            "0.2604108452796936\n",
            "0.26044750213623047\n",
            "0.260366290807724\n",
            "0.2604023516178131\n",
            "0.2603223919868469\n",
            "0.2603578567504883\n",
            "0.26027899980545044\n",
            "0.26031386852264404\n",
            "0.2602362334728241\n",
            "0.2602706551551819\n",
            "0.2601941227912903\n",
            "0.26022791862487793\n",
            "0.26015254855155945\n",
            "0.2601858675479889\n",
            "0.260111540555954\n",
            "0.26014444231987\n",
            "0.26007115840911865\n",
            "0.2601035535335541\n",
            "0.2600313425064087\n",
            "0.2600633203983307\n",
            "0.2599920630455017\n",
            "0.26002365350723267\n",
            "0.2599533498287201\n",
            "0.2599845230579376\n",
            "0.2599150836467743\n",
            "0.259945809841156\n",
            "0.2598772644996643\n",
            "0.259907603263855\n",
            "0.2598399519920349\n",
            "0.25986993312835693\n",
            "0.25980308651924133\n",
            "0.2598327100276947\n",
            "0.25976675748825073\n",
            "0.25979602336883545\n",
            "0.25973087549209595\n",
            "0.2597598135471344\n",
            "0.259695440530777\n",
            "0.259723961353302\n",
            "0.2596602737903595\n",
            "0.25968849658966064\n",
            "0.2596255838871002\n",
            "0.25965356826782227\n",
            "0.25959137082099915\n",
            "0.2596190273761749\n",
            "0.25955748558044434\n",
            "0.25958484411239624\n",
            "0.25952398777008057\n",
            "0.25955113768577576\n",
            "0.2594909965991974\n",
            "0.2595178484916687\n",
            "0.2594583332538605\n",
            "0.25948482751846313\n",
            "0.25942590832710266\n",
            "0.2594521939754486\n",
            "0.2593937814235687\n",
            "0.25941982865333557\n",
            "0.259362131357193\n",
            "0.25938788056373596\n",
            "0.25933071970939636\n",
            "0.2593562602996826\n",
            "0.2592996656894684\n",
            "0.25932493805885315\n",
            "0.25926893949508667\n",
            "0.2592940628528595\n",
            "0.2592385411262512\n",
            "0.25926339626312256\n",
            "0.25920844078063965\n",
            "0.2592329978942871\n",
            "0.2591785490512848\n",
            "0.2592029571533203\n",
            "0.2591489553451538\n",
            "0.25917327404022217\n",
            "0.25911974906921387\n",
            "0.2591438591480255\n",
            "0.2590908408164978\n",
            "0.2591145932674408\n",
            "0.2590620815753937\n",
            "0.2590857148170471\n",
            "0.2590337097644806\n",
            "0.2590571343898773\n",
            "0.2590055465698242\n",
            "0.259028822183609\n",
            "0.25897762179374695\n",
            "0.259000688791275\n",
            "0.258949875831604\n",
            "0.25897282361984253\n",
            "0.2589224576950073\n",
            "0.2589452862739563\n",
            "0.2588953375816345\n",
            "0.2589179277420044\n",
            "0.25886839628219604\n",
            "0.2588907480239868\n",
            "0.2588415741920471\n",
            "0.2588638663291931\n",
            "0.25881510972976685\n",
            "0.25883713364601135\n",
            "0.2587887644767761\n",
            "0.25881072878837585\n",
            "0.25876274704933167\n",
            "0.2587845027446747\n",
            "0.25873684883117676\n",
            "0.25875839591026306\n",
            "0.258711040019989\n",
            "0.25873252749443054\n",
            "0.2586856484413147\n",
            "0.2587068974971771\n",
            "0.25866037607192993\n",
            "0.2586815059185028\n",
            "0.2586352527141571\n",
            "0.2586562931537628\n",
            "0.258610337972641\n",
            "0.25863116979599\n",
            "0.25858554244041443\n",
            "0.2586062550544739\n",
            "0.25856098532676697\n",
            "0.2585815489292145\n",
            "0.25853657722473145\n",
            "0.2585570812225342\n",
            "0.2585125267505646\n",
            "0.258532851934433\n",
            "0.25848859548568726\n",
            "0.2585087716579437\n",
            "0.2584648132324219\n",
            "0.2584848701953888\n",
            "0.25844117999076843\n",
            "0.258461058139801\n",
            "0.25841766595840454\n",
            "0.25843745470046997\n",
            "0.25839436054229736\n",
            "0.25841400027275085\n",
            "0.25837117433547974\n",
            "0.2583906948566437\n",
            "0.2583482265472412\n",
            "0.258367657661438\n",
            "0.2583255171775818\n",
            "0.2583447992801666\n",
            "0.2583028972148895\n",
            "0.2583220601081848\n",
            "0.2582804262638092\n",
            "0.25829944014549255\n",
            "0.25825804471969604\n",
            "0.25827690958976746\n",
            "0.2582358121871948\n",
            "0.2582545578479767\n",
            "0.25821372866630554\n",
            "0.2582324147224426\n",
            "0.25819191336631775\n",
            "0.2582104504108429\n",
            "0.25817009806632996\n",
            "0.25818854570388794\n",
            "0.2581484317779541\n",
            "0.25816676020622253\n",
            "0.25812697410583496\n",
            "0.25814518332481384\n",
            "0.25810563564300537\n",
            "0.2581236958503723\n",
            "0.2580844759941101\n",
            "0.2581024765968323\n",
            "0.2580634355545044\n",
            "0.258081316947937\n",
            "0.25804248452186584\n",
            "0.25806018710136414\n",
            "0.25802162289619446\n",
            "0.2580392360687256\n",
            "0.2580008804798126\n",
            "0.258018434047699\n",
            "0.2579803764820099\n",
            "0.2579977214336395\n",
            "0.25795984268188477\n",
            "0.2579771876335144\n",
            "0.25793954730033875\n",
            "0.25795677304267883\n",
            "0.25791946053504944\n",
            "0.2579365074634552\n",
            "0.25789934396743774\n",
            "0.25791630148887634\n",
            "0.2578794062137604\n",
            "0.2578963339328766\n",
            "0.25785961747169495\n",
            "0.25787633657455444\n",
            "0.2578398585319519\n",
            "0.25785648822784424\n",
            "0.2578202188014984\n",
            "0.2578367590904236\n",
            "0.2578006982803345\n",
            "0.25781723856925964\n",
            "0.25778138637542725\n",
            "0.2577977776527405\n",
            "0.2577621638774872\n",
            "0.2577784061431885\n",
            "0.2577429413795471\n",
            "0.2577590346336365\n",
            "0.257723867893219\n",
            "0.2577399015426636\n",
            "0.2577049136161804\n",
            "0.25772082805633545\n",
            "0.2576860189437866\n",
            "0.2577018439769745\n",
            "0.25766727328300476\n",
            "0.25768300890922546\n",
            "0.2576485872268677\n",
            "0.25766420364379883\n",
            "0.2576300799846649\n",
            "0.2576456069946289\n",
            "0.25761163234710693\n",
            "0.25762712955474854\n",
            "0.25759339332580566\n",
            "0.25760868191719055\n",
            "0.257575124502182\n",
            "0.25759032368659973\n",
            "0.2575569152832031\n",
            "0.2575720548629761\n",
            "0.25753891468048096\n",
            "0.25755393505096436\n",
            "0.25752097368240356\n",
            "0.257535845041275\n",
            "0.25750309228897095\n",
            "0.2575179934501648\n",
            "0.25748544931411743\n",
            "0.2575001120567322\n",
            "0.25746774673461914\n",
            "0.2574823200702667\n",
            "0.2574501633644104\n",
            "0.25746479630470276\n",
            "0.2574327886104584\n",
            "0.2574472427368164\n",
            "0.25741544365882874\n",
            "0.2574298083782196\n",
            "0.25739821791648865\n",
            "0.25741249322891235\n",
            "0.25738105177879333\n",
            "0.2573952376842499\n",
            "0.2573639452457428\n",
            "0.2573780417442322\n",
            "0.2573470175266266\n",
            "0.25736096501350403\n",
            "0.257330060005188\n",
            "0.2573438882827759\n",
            "0.25731319189071655\n",
            "0.2573269307613373\n",
            "0.25729650259017944\n",
            "0.2573102116584778\n",
            "0.2572798728942871\n",
            "0.2572934925556183\n",
            "0.25726333260536194\n",
            "0.25727686285972595\n",
            "0.25724685192108154\n",
            "0.257260262966156\n",
            "0.25723040103912354\n",
            "0.2572437822818756\n",
            "0.25721412897109985\n",
            "0.2572273910045624\n",
            "0.25719791650772095\n",
            "0.25721102952957153\n",
            "0.2571817934513092\n",
            "0.2571948170661926\n",
            "0.25716570019721985\n",
            "0.2571786344051361\n",
            "0.25714975595474243\n",
            "0.2571626305580139\n",
            "0.2571339011192322\n",
            "0.2571466565132141\n",
            "0.2571181654930115\n",
            "0.25713086128234863\n",
            "0.25710245966911316\n",
            "0.25711509585380554\n",
            "0.25708675384521484\n",
            "0.25709933042526245\n",
            "0.25707125663757324\n",
            "0.2570837438106537\n",
            "0.25705578923225403\n",
            "0.2570682168006897\n",
            "0.257040411233902\n",
            "0.2570527195930481\n",
            "0.25702518224716187\n",
            "0.25703737139701843\n",
            "0.25700998306274414\n",
            "0.25702211260795593\n",
            "0.2569948136806488\n",
            "0.25700682401657104\n",
            "0.256979763507843\n",
            "0.2569916844367981\n",
            "0.25696471333503723\n",
            "0.2569766342639923\n",
            "0.25694984197616577\n",
            "0.2569616436958313\n",
            "0.2569350004196167\n",
            "0.25694671273231506\n",
            "0.25692018866539\n",
            "0.256931871175766\n",
            "0.25690552592277527\n",
            "0.2569171190261841\n",
            "0.2568909227848053\n",
            "0.25690242648124695\n",
            "0.2568763792514801\n",
            "0.2568877935409546\n",
            "0.2568618953227997\n",
            "0.2568731904029846\n",
            "0.2568475306034088\n",
            "0.25685882568359375\n",
            "0.2568332254886627\n",
            "0.2568444311618805\n",
            "0.256818950176239\n",
            "0.256830096244812\n",
            "0.25680476427078247\n",
            "0.2568158507347107\n",
            "0.2567906975746155\n",
            "0.25680166482925415\n",
            "0.2567766308784485\n",
            "0.2567875385284424\n",
            "0.25676265358924866\n",
            "0.2567734718322754\n",
            "0.2567487359046936\n",
            "0.2567594349384308\n",
            "0.25673484802246094\n",
            "0.25674551725387573\n",
            "0.25672104954719543\n",
            "0.25673162937164307\n",
            "0.2567073106765747\n",
            "0.25671783089637756\n",
            "0.25669369101524353\n",
            "0.2567041218280792\n",
            "0.25668013095855713\n",
            "0.25669050216674805\n",
            "0.2566665709018707\n",
            "0.25667688250541687\n",
            "0.25665315985679626\n",
            "0.25666344165802\n",
            "0.25663983821868896\n",
            "0.2566499710083008\n",
            "0.2566264867782593\n",
            "0.2566365897655487\n",
            "0.25661319494247437\n",
            "0.25662320852279663\n",
            "0.2565999925136566\n",
            "0.2566099762916565\n",
            "0.2565869092941284\n",
            "0.25659671425819397\n",
            "0.25657373666763306\n",
            "0.2565835416316986\n",
            "0.256560742855072\n",
            "0.2565705180168152\n",
            "0.25654783844947815\n",
            "0.25655752420425415\n",
            "0.25653499364852905\n",
            "0.2565445899963379\n",
            "0.25652217864990234\n",
            "0.2565317153930664\n",
            "0.2565094530582428\n",
            "0.2565189599990845\n",
            "0.25649675726890564\n",
            "0.25650617480278015\n",
            "0.25648415088653564\n",
            "0.256493479013443\n",
            "0.2564716041088104\n",
            "0.2564809322357178\n",
            "0.25645917654037476\n",
            "0.25646844506263733\n",
            "0.2564467191696167\n",
            "0.25645583868026733\n",
            "0.2564343214035034\n",
            "0.2564433813095093\n",
            "0.2564220428466797\n",
            "0.2564310133457184\n",
            "0.25640976428985596\n",
            "0.25641873478889465\n",
            "0.256397545337677\n",
            "0.2564064562320709\n",
            "0.2563853859901428\n",
            "0.25639426708221436\n",
            "0.2563733458518982\n",
            "0.25638216733932495\n",
            "0.25636133551597595\n",
            "0.25637006759643555\n",
            "0.2563493847846985\n",
            "0.2563580870628357\n",
            "0.2563374936580658\n",
            "0.25634610652923584\n",
            "0.2563256621360779\n",
            "0.25633418560028076\n",
            "0.2563137412071228\n",
            "0.2563222646713257\n",
            "0.25630199909210205\n",
            "0.25631043314933777\n",
            "0.2562902569770813\n",
            "0.256298691034317\n",
            "0.2562786936759949\n",
            "0.2562870383262634\n",
            "0.25626713037490845\n",
            "0.25627535581588745\n",
            "0.256255567073822\n",
            "0.2562638223171234\n",
            "0.25624412298202515\n",
            "0.256252259016037\n",
            "0.25623270869255066\n",
            "0.2562408447265625\n",
            "0.25622135400772095\n",
            "0.2562294006347656\n",
            "0.2562100291252136\n",
            "0.2562180757522583\n",
            "0.25619882345199585\n",
            "0.25620678067207336\n",
            "0.2561876177787781\n",
            "0.2561955451965332\n",
            "0.2561764717102051\n",
            "0.25618433952331543\n",
            "0.25616538524627686\n",
            "0.25617319345474243\n",
            "0.256154328584671\n",
            "0.2561620771884918\n",
            "0.2561433017253876\n",
            "0.2561509907245636\n",
            "0.2561323344707489\n",
            "0.25613996386528015\n",
            "0.2561213970184326\n",
            "0.2561289668083191\n",
            "0.2561105191707611\n",
            "0.2561180293560028\n",
            "0.2560997009277344\n",
            "0.2561071515083313\n",
            "0.25608891248703003\n",
            "0.25609633326530457\n",
            "0.2560782730579376\n",
            "0.2560856342315674\n",
            "0.2560676336288452\n",
            "0.2560749650001526\n",
            "0.2560569941997528\n",
            "0.2560642957687378\n",
            "0.25604647397994995\n",
            "0.2560536861419678\n",
            "0.2560358941555023\n",
            "0.25604310631752014\n",
            "0.2560254633426666\n",
            "0.2560325860977173\n",
            "0.25601500272750854\n",
            "0.2560221254825592\n",
            "0.2560046911239624\n",
            "0.2560117840766907\n",
            "0.25599437952041626\n",
            "0.256001353263855\n",
            "0.2559840977191925\n",
            "0.25599104166030884\n",
            "0.25597378611564636\n",
            "0.2559807002544403\n",
            "0.2559635639190674\n",
            "0.2559705078601837\n",
            "0.25595346093177795\n",
            "0.2559603154659271\n",
            "0.2559433579444885\n",
            "0.2559501528739929\n",
            "0.2559332847595215\n",
            "0.2559400796890259\n",
            "0.2559233605861664\n",
            "0.2559301257133484\n",
            "0.2559134364128113\n",
            "0.25592005252838135\n",
            "0.2559035122394562\n",
            "0.25591015815734863\n",
            "0.25589367747306824\n",
            "0.2559002637863159\n",
            "0.25588393211364746\n",
            "0.25589045882225037\n",
            "0.2558741569519043\n",
            "0.2558806538581848\n",
            "0.2558644115924835\n",
            "0.2558708190917969\n",
            "0.25585466623306274\n",
            "0.2558610737323761\n",
            "0.25584495067596436\n",
            "0.25585126876831055\n",
            "0.25583532452583313\n",
            "0.2558417022228241\n",
            "0.25582584738731384\n",
            "0.25583213567733765\n",
            "0.2558163106441498\n",
            "0.2558225989341736\n",
            "0.2558067739009857\n",
            "0.2558130621910095\n",
            "0.2557973861694336\n",
            "0.25580358505249023\n",
            "0.25578802824020386\n",
            "0.2557941675186157\n",
            "0.25577861070632935\n",
            "0.2557847797870636\n",
            "0.2557693421840668\n",
            "0.2557753920555115\n",
            "0.2557600140571594\n",
            "0.25576603412628174\n",
            "0.25575074553489685\n",
            "0.2557567059993744\n",
            "0.25574150681495667\n",
            "0.255747526884079\n",
            "0.2557324469089508\n",
            "0.25573834776878357\n",
            "0.2557232677936554\n",
            "0.25572919845581055\n",
            "0.25571417808532715\n",
            "0.2557200789451599\n",
            "0.25570517778396606\n",
            "0.2557109594345093\n",
            "0.2556961178779602\n",
            "0.2557019591331482\n",
            "0.2556871771812439\n",
            "0.25569289922714233\n",
            "0.2556782364845276\n",
            "0.255683958530426\n",
            "0.25566932559013367\n",
            "0.25567498803138733\n",
            "0.2556605041027069\n",
            "0.2556661367416382\n",
            "0.25565165281295776\n",
            "0.25565722584724426\n",
            "0.255642831325531\n",
            "0.2556484341621399\n",
            "0.25563403964042664\n",
            "0.25563961267471313\n",
            "0.25562533736228943\n",
            "0.25563082098960876\n",
            "0.25561660528182983\n",
            "0.25562208890914917\n",
            "0.2556079626083374\n",
            "0.25561341643333435\n"
          ]
        }
      ]
    },
    {
      "cell_type": "code",
      "source": [
        "logits.max(1)"
      ],
      "metadata": {
        "colab": {
          "base_uri": "https://localhost:8080/"
        },
        "id": "6cTV6zVc4gC1",
        "outputId": "585eb30e-6f12-4b11-98d4-96cce37cdf1c"
      },
      "execution_count": 149,
      "outputs": [
        {
          "output_type": "execute_result",
          "data": {
            "text/plain": [
              "torch.return_types.max(\n",
              "values=tensor([13.4214, 17.9616, 20.6613, 20.7198, 16.8601, 13.4214, 16.0936, 14.2867,\n",
              "        16.0148, 18.5258, 16.0750, 21.0547, 13.4214, 17.2685, 17.2816, 20.2049,\n",
              "        13.4214, 16.5877, 15.2851, 17.1984, 18.6979, 16.1043, 10.9960, 10.7945,\n",
              "        15.5887, 13.4214, 16.3420, 17.0724, 12.8240, 16.3032, 19.2253, 16.1903],\n",
              "       grad_fn=<MaxBackward0>),\n",
              "indices=tensor([ 9, 13, 13,  1,  0,  9, 12,  9, 22,  9,  1,  0,  9, 22,  1,  0,  9, 19,\n",
              "         1,  2,  5, 12, 12,  1,  0,  9, 15, 16,  8,  9,  1,  0]))"
            ]
          },
          "metadata": {},
          "execution_count": 149
        }
      ]
    },
    {
      "cell_type": "code",
      "source": [
        "Y"
      ],
      "metadata": {
        "colab": {
          "base_uri": "https://localhost:8080/"
        },
        "id": "P_oPgJvk41oh",
        "outputId": "6b4cefc2-76d5-497c-f81a-035345170781"
      },
      "execution_count": 148,
      "outputs": [
        {
          "output_type": "execute_result",
          "data": {
            "text/plain": [
              "tensor([ 5, 13, 13,  1,  0, 15, 12,  9, 22,  9,  1,  0,  1, 22,  1,  0,  9, 19,\n",
              "         1,  2,  5, 12, 12,  1,  0, 19, 15, 16,  8,  9,  1,  0])"
            ]
          },
          "metadata": {},
          "execution_count": 148
        }
      ]
    },
    {
      "cell_type": "markdown",
      "source": [
        "### Process the full dataset"
      ],
      "metadata": {
        "id": "q4wVsB5f42hA"
      }
    },
    {
      "cell_type": "code",
      "source": [
        "block_size = 3\n",
        "X, Y = [], []\n",
        "for w in words:\n",
        "  context = [0] * block_size\n",
        "  for ch in w + '.':\n",
        "    ix = stoi[ch]\n",
        "    X.append(context)\n",
        "    Y.append(ix)\n",
        "    context = context[1:] + [ix]\n",
        "\n",
        "X = torch.tensor(X)\n",
        "Y = torch.tensor(Y)"
      ],
      "metadata": {
        "id": "NnebKTce5Q-1"
      },
      "execution_count": 238,
      "outputs": []
    },
    {
      "cell_type": "code",
      "source": [
        "X.shape, Y.shape  # dataset"
      ],
      "metadata": {
        "colab": {
          "base_uri": "https://localhost:8080/"
        },
        "id": "f6yfrCaK6IRJ",
        "outputId": "f3f546a0-e0cc-456b-bf9b-8019c3737c6d"
      },
      "execution_count": 239,
      "outputs": [
        {
          "output_type": "execute_result",
          "data": {
            "text/plain": [
              "(torch.Size([228146, 3]), torch.Size([228146]))"
            ]
          },
          "metadata": {},
          "execution_count": 239
        }
      ]
    },
    {
      "cell_type": "code",
      "source": [
        "g = torch.Generator().manual_seed(2147483647) # for reproducibility\n",
        "C = torch.randn((27, 2), generator=g)\n",
        "W1 = torch.randn((6, 100), generator=g)\n",
        "b1 = torch.randn(100, generator=g)\n",
        "W2 = torch.randn((100, 27), generator=g)\n",
        "b2 = torch.randn(27, generator=g)\n",
        "parameters = [C, W1, b1, W2, b2]"
      ],
      "metadata": {
        "id": "vDXo3o6Q9rUg"
      },
      "execution_count": 240,
      "outputs": []
    },
    {
      "cell_type": "code",
      "source": [
        "sum(p.nelement() for p in parameters) # number of parameters in total"
      ],
      "metadata": {
        "colab": {
          "base_uri": "https://localhost:8080/"
        },
        "id": "IZLvj72Y7CKN",
        "outputId": "0aae8806-bec2-4712-c605-bca306290dad"
      },
      "execution_count": 241,
      "outputs": [
        {
          "output_type": "execute_result",
          "data": {
            "text/plain": [
              "3481"
            ]
          },
          "metadata": {},
          "execution_count": 241
        }
      ]
    },
    {
      "cell_type": "code",
      "source": [
        "for p in parameters:\n",
        "  p.requires_grad = True"
      ],
      "metadata": {
        "id": "0-MuTq7p6Ah4"
      },
      "execution_count": 242,
      "outputs": []
    },
    {
      "cell_type": "code",
      "source": [
        "for _ in range(10):\n",
        "\n",
        "  # Forward pass\n",
        "  emb = C[X] # (32, 3, 2)\n",
        "  h = torch.tanh(emb.view(-1, 6) @ W1 + b1) # (32, 100)\n",
        "  logits = h @ W2 + b2 # (32, 27)\n",
        "\n",
        "  loss = F.cross_entropy(logits, Y)\n",
        "  print(loss.item())\n",
        "\n",
        "  # Backward pass\n",
        "  for p in parameters:\n",
        "    p.grad = None\n",
        "\n",
        "  loss.backward()\n",
        "\n",
        "  # Update\n",
        "  for p in parameters:\n",
        "    p.data += -0.1 * p.grad"
      ],
      "metadata": {
        "colab": {
          "base_uri": "https://localhost:8080/"
        },
        "id": "LBspV4mu7Dzr",
        "outputId": "07f8d982-1ff1-45e9-b0ee-921b74a00b61"
      },
      "execution_count": 162,
      "outputs": [
        {
          "output_type": "stream",
          "name": "stdout",
          "text": [
            "3.884880781173706\n",
            "3.870501756668091\n",
            "3.856337070465088\n",
            "3.8423843383789062\n",
            "3.828640937805176\n",
            "3.8151051998138428\n",
            "3.8017737865448\n",
            "3.788645029067993\n",
            "3.7757153511047363\n",
            "3.762983798980713\n"
          ]
        }
      ]
    },
    {
      "cell_type": "markdown",
      "source": [
        "###This is way too slow, we will now use MiniBatch"
      ],
      "metadata": {
        "id": "QUIWTs9z7L6a"
      }
    },
    {
      "cell_type": "code",
      "source": [
        "torch.randint(0, X.shape[0], (32,)) # Creates integers that index into our dataset, with 32 in total"
      ],
      "metadata": {
        "colab": {
          "base_uri": "https://localhost:8080/"
        },
        "id": "smCUx7xW7e0L",
        "outputId": "b43f0037-9da3-4a06-8590-84dd19f2d51c"
      },
      "execution_count": 243,
      "outputs": [
        {
          "output_type": "execute_result",
          "data": {
            "text/plain": [
              "tensor([ 64410, 213577, 112468, 168758, 102911, 114941,  80567, 153985, 128437,\n",
              "         40013,  47180, 131917, 132497, 140808,   8120, 192971,  85142,  17245,\n",
              "         11363,  71185, 100210, 206925, 204863, 188498,  33509, 109329, 211947,\n",
              "         81798,   2484, 133279,  33295, 140874])"
            ]
          },
          "metadata": {},
          "execution_count": 243
        }
      ]
    },
    {
      "cell_type": "code",
      "source": [
        "for p in parameters:\n",
        "  p.requires_grad = True"
      ],
      "metadata": {
        "id": "DGFryubp7jxe"
      },
      "execution_count": 244,
      "outputs": []
    },
    {
      "cell_type": "code",
      "source": [
        "# Trying to find the right lr\n",
        "lre = torch.linspace(-3, 0, 1000)\n",
        "lrs = 10**lre"
      ],
      "metadata": {
        "id": "Nh4PV_ap_Ep6"
      },
      "execution_count": 229,
      "outputs": []
    },
    {
      "cell_type": "code",
      "source": [
        "lri = []\n",
        "lossi = []\n",
        "\n",
        "\n",
        "for i in range(10000):\n",
        "\n",
        "  # MiniBatch Construct\n",
        "  ix = torch.randint(0, X.shape[0], (32,))\n",
        "\n",
        "  # Forward pass\n",
        "  emb = C[X[ix]]\n",
        "  h = torch.tanh(emb.view(-1, 6) @ W1 + b1)\n",
        "  logits = h @ W2 + b2\n",
        "  loss = F.cross_entropy(logits, Y[ix])\n",
        "  #print(loss.item())\n",
        "\n",
        "  # Backward Pass\n",
        "  for p in parameters:\n",
        "    p.grad = None\n",
        "  loss.backward()\n",
        "\n",
        "  # Update\n",
        "  #lr = lrs[i]\n",
        "  lr = 0.1\n",
        "  for p in parameters:\n",
        "    p.data += -lr * p.grad\n",
        "\n",
        "  # Track stats\n",
        "  # lri.append(lre[i])\n",
        "  # lossi.append(loss.item())\n",
        "\n",
        "# print(loss.item())"
      ],
      "metadata": {
        "collapsed": true,
        "id": "q3KBH_rt8CkF"
      },
      "execution_count": 253,
      "outputs": []
    },
    {
      "cell_type": "code",
      "source": [
        "plt.plot(lri, lossi)"
      ],
      "metadata": {
        "colab": {
          "base_uri": "https://localhost:8080/",
          "height": 447
        },
        "collapsed": true,
        "id": "fbuJiVXHAiM7",
        "outputId": "47272ac0-ec18-40e1-c5da-b3d4c3642dae"
      },
      "execution_count": 231,
      "outputs": [
        {
          "output_type": "execute_result",
          "data": {
            "text/plain": [
              "[<matplotlib.lines.Line2D at 0x7a6e6cf60310>]"
            ]
          },
          "metadata": {},
          "execution_count": 231
        },
        {
          "output_type": "display_data",
          "data": {
            "text/plain": [
              "<Figure size 640x480 with 1 Axes>"
            ],
            "image/png": "[encoded data removed]"
          },
          "metadata": {}
        }
      ]
    },
    {
      "cell_type": "markdown",
      "source": [
        "We see that the -1.0 is the good region to be in: So 10**-1 = 0.1 is the good lr which we can now set concretely"
      ],
      "metadata": {
        "id": "2LYfJgqCBJ_d"
      }
    },
    {
      "cell_type": "code",
      "source": [
        "lri = []\n",
        "lossi = []\n",
        "\n",
        "\n",
        "for i in range(10000):\n",
        "\n",
        "  # MiniBatch Construct\n",
        "  ix = torch.randint(0, X.shape[0], (32,))\n",
        "\n",
        "  # Forward pass\n",
        "  emb = C[X[ix]]\n",
        "  h = torch.tanh(emb.view(-1, 6) @ W1 + b1)\n",
        "  logits = h @ W2 + b2\n",
        "  loss = F.cross_entropy(logits, Y[ix])\n",
        "  #print(loss.item())\n",
        "\n",
        "  # Backward Pass\n",
        "  for p in parameters:\n",
        "    p.grad = None\n",
        "  loss.backward()\n",
        "\n",
        "  # Update\n",
        "  #lr = lrs[i]\n",
        "  lr = 0.01           ### Do a lr decay manually\n",
        "  for p in parameters:\n",
        "    p.data += -lr * p.grad\n",
        "\n",
        "  # Track stats\n",
        "  # lri.append(lre[i])\n",
        "  # lossi.append(loss.item())\n",
        "\n",
        "# print(loss.item())"
      ],
      "metadata": {
        "id": "z0DTExc9CcRq"
      },
      "execution_count": 259,
      "outputs": []
    },
    {
      "cell_type": "code",
      "source": [
        "emb = C[X]\n",
        "h = torch.tanh(emb.view(-1, 6) @ W1 + b1)\n",
        "logits = h @ W2 + b2\n",
        "loss = F.cross_entropy(logits, Y)\n",
        "loss"
      ],
      "metadata": {
        "colab": {
          "base_uri": "https://localhost:8080/"
        },
        "id": "Fe0CmsNg82kX",
        "outputId": "7cbba477-96c8-449b-d386-9c21e13a164c"
      },
      "execution_count": 260,
      "outputs": [
        {
          "output_type": "execute_result",
          "data": {
            "text/plain": [
              "tensor(2.3083, grad_fn=<NllLossBackward0>)"
            ]
          },
          "metadata": {},
          "execution_count": 260
        }
      ]
    },
    {
      "cell_type": "markdown",
      "source": [
        "We can achieve a loss of ~0 if we use much more parameters than the data we are training on, aka Overfitting. So we generally split our data into 3 parts:\n",
        "1. Train Split (80%): for training parameters\n",
        "2. Dev/ Validation split (10%) : for setting hyperparameters\n",
        "3. Test split (10%): for evaluating the model at the end"
      ],
      "metadata": {
        "id": "N_5AUAri9a2m"
      }
    },
    {
      "cell_type": "code",
      "source": [
        "import torch\n",
        "import torch.nn.functional as F\n",
        "import matplotlib.pyplot as plt\n",
        "%matplotlib inline"
      ],
      "metadata": {
        "id": "imw8TB7AFrUR"
      },
      "execution_count": 344,
      "outputs": []
    },
    {
      "cell_type": "code",
      "source": [
        "# read in all the words\n",
        "words = open('names.txt', 'r').read().splitlines()\n",
        "len(words)"
      ],
      "metadata": {
        "colab": {
          "base_uri": "https://localhost:8080/"
        },
        "id": "djruP-1xF0KS",
        "outputId": "1aa5acbb-9047-4fe8-cad7-71c50767efa3"
      },
      "execution_count": 345,
      "outputs": [
        {
          "output_type": "execute_result",
          "data": {
            "text/plain": [
              "32033"
            ]
          },
          "metadata": {},
          "execution_count": 345
        }
      ]
    },
    {
      "cell_type": "code",
      "source": [
        "# build the vocabulary of characters and mappings to/from integers\n",
        "chars = sorted(list(set(''.join(words))))\n",
        "stoi = {s:i+1 for i, s in enumerate(chars)}\n",
        "stoi['.'] = 0\n",
        "itos = {i:s for s, i in stoi.items()}\n",
        "print(itos)"
      ],
      "metadata": {
        "colab": {
          "base_uri": "https://localhost:8080/"
        },
        "id": "7mRyWbuCF7jA",
        "outputId": "2126a9f4-8aa7-47a8-8bc1-b3ea9224be3a"
      },
      "execution_count": 346,
      "outputs": [
        {
          "output_type": "stream",
          "name": "stdout",
          "text": [
            "{1: 'a', 2: 'b', 3: 'c', 4: 'd', 5: 'e', 6: 'f', 7: 'g', 8: 'h', 9: 'i', 10: 'j', 11: 'k', 12: 'l', 13: 'm', 14: 'n', 15: 'o', 16: 'p', 17: 'q', 18: 'r', 19: 's', 20: 't', 21: 'u', 22: 'v', 23: 'w', 24: 'x', 25: 'y', 26: 'z', 0: '.'}\n"
          ]
        }
      ]
    },
    {
      "cell_type": "code",
      "source": [
        "# Build the dataset\n",
        "\n",
        "def build_dataset(words):\n",
        "  block_size = 3\n",
        "  X, Y = [], []\n",
        "\n",
        "  for w in words:\n",
        "    context = [0] * block_size\n",
        "    for ch in w + '.':\n",
        "      ix = stoi[ch]\n",
        "      X.append(context)\n",
        "      Y.append(ix)\n",
        "      context = context[1:] + [ix]\n",
        "\n",
        "  X = torch.tensor(X)\n",
        "  Y = torch.tensor(Y)\n",
        "  print(X.shape, Y.shape)\n",
        "  return X, Y\n",
        "\n",
        "\n",
        "import random\n",
        "random.seed(42)\n",
        "random.shuffle(words)\n",
        "n1 = int(0.8 * len(words))\n",
        "n2 = int(0.9 * len(words))\n",
        "\n",
        "Xtr, Ytr = build_dataset(words[:n1])\n",
        "Xdev, Ydev = build_dataset(words[n1:n2])\n",
        "Xte, Yte = build_dataset(words[n2:])"
      ],
      "metadata": {
        "colab": {
          "base_uri": "https://localhost:8080/"
        },
        "id": "LuccoWm5HY2j",
        "outputId": "d903b208-24b4-4cec-ebf8-9871811a780a"
      },
      "execution_count": 347,
      "outputs": [
        {
          "output_type": "stream",
          "name": "stdout",
          "text": [
            "torch.Size([182625, 3]) torch.Size([182625])\n",
            "torch.Size([22655, 3]) torch.Size([22655])\n",
            "torch.Size([22866, 3]) torch.Size([22866])\n"
          ]
        }
      ]
    },
    {
      "cell_type": "code",
      "source": [
        "Xtr.shape, Ytr.shape # dataset"
      ],
      "metadata": {
        "colab": {
          "base_uri": "https://localhost:8080/"
        },
        "id": "agyjXTkeHT0O",
        "outputId": "f3e2d9de-242b-47e4-8033-6e1e2fd70f48"
      },
      "execution_count": 348,
      "outputs": [
        {
          "output_type": "execute_result",
          "data": {
            "text/plain": [
              "(torch.Size([182625, 3]), torch.Size([182625]))"
            ]
          },
          "metadata": {},
          "execution_count": 348
        }
      ]
    },
    {
      "cell_type": "code",
      "source": [
        "g = torch.Generator().manual_seed(2147483647)\n",
        "C = torch.randn((27, 10), generator=g)\n",
        "W1 = torch.randn((30, 200), generator=g)\n",
        "b1 = torch.randn(200, generator=g)\n",
        "W2 = torch.randn((200, 27), generator=g)\n",
        "b2 = torch.randn(27, generator=g)\n",
        "parameters = [C, W1, b1, W2, b2]"
      ],
      "metadata": {
        "id": "ifQM9ecYJXsD"
      },
      "execution_count": 349,
      "outputs": []
    },
    {
      "cell_type": "code",
      "source": [
        "sum(p.nelement() for p in parameters)"
      ],
      "metadata": {
        "colab": {
          "base_uri": "https://localhost:8080/"
        },
        "id": "FZUDvO5pJ-Gj",
        "outputId": "509eda1b-48f7-4cd4-92c6-f4492c92b92e"
      },
      "execution_count": 350,
      "outputs": [
        {
          "output_type": "execute_result",
          "data": {
            "text/plain": [
              "11897"
            ]
          },
          "metadata": {},
          "execution_count": 350
        }
      ]
    },
    {
      "cell_type": "code",
      "source": [
        "for p in parameters:\n",
        "  p.requires_grad = True"
      ],
      "metadata": {
        "id": "flAjZNDqKDJR"
      },
      "execution_count": 351,
      "outputs": []
    },
    {
      "cell_type": "code",
      "source": [
        "lri = []\n",
        "lossi = []\n",
        "stepi = []"
      ],
      "metadata": {
        "id": "kgWUzsloPcq2"
      },
      "execution_count": 352,
      "outputs": []
    },
    {
      "cell_type": "code",
      "source": [
        "for i in range(200000):\n",
        "\n",
        "  # MiniBatch construct\n",
        "  ix = torch.randint(0, Xtr.shape[0], (32,))\n",
        "\n",
        "  # Forward Pass\n",
        "  emb = C[Xtr[ix]] # (32, 3, 2)\n",
        "  h = torch.tanh(emb.view(-1, 30) @ W1 + b1) # (32, 100)\n",
        "  logits = h @ W2 + b2 # (32, 27)\n",
        "  loss = F.cross_entropy(logits, Ytr[ix])\n",
        "\n",
        "  # Backward Pass\n",
        "  for p in parameters:\n",
        "    p.grad = None\n",
        "  loss.backward()\n",
        "\n",
        "  # Update\n",
        "  lr = 0.1 if i < 100000 else 0.01\n",
        "  for p in parameters:\n",
        "    p.data += -lr * p.grad\n",
        "\n",
        "  # track stats\n",
        "  stepi.append(i)\n",
        "  lossi.append(loss.log10().item())"
      ],
      "metadata": {
        "id": "0KFASESwKHb9"
      },
      "execution_count": 353,
      "outputs": []
    },
    {
      "cell_type": "code",
      "source": [
        "plt.plot(stepi, lossi)"
      ],
      "metadata": {
        "colab": {
          "base_uri": "https://localhost:8080/",
          "height": 447
        },
        "id": "cCaVkdDuPnr7",
        "outputId": "6e533b68-aa89-4437-a41c-fa672e92d02a"
      },
      "execution_count": 354,
      "outputs": [
        {
          "output_type": "execute_result",
          "data": {
            "text/plain": [
              "[<matplotlib.lines.Line2D at 0x7a6e67d1be10>]"
            ]
          },
          "metadata": {},
          "execution_count": 354
        },
        {
          "output_type": "display_data",
          "data": {
            "text/plain": [
              "<Figure size 640x480 with 1 Axes>"
            ],
            "image/png": "[encoded data removed]"
          },
          "metadata": {}
        }
      ]
    },
    {
      "cell_type": "code",
      "source": [
        "emb = C[Xtr]\n",
        "h = torch.tanh(emb.view(-1, 30) @ W1 + b1)\n",
        "logits = h @ W2 + b2\n",
        "loss = F.cross_entropy(logits, Ytr)\n",
        "loss"
      ],
      "metadata": {
        "colab": {
          "base_uri": "https://localhost:8080/"
        },
        "id": "YzZfMVHvLFZ_",
        "outputId": "1f686291-4fe1-41d9-9b2e-924f1c3984b9"
      },
      "execution_count": 355,
      "outputs": [
        {
          "output_type": "execute_result",
          "data": {
            "text/plain": [
              "tensor(2.1312, grad_fn=<NllLossBackward0>)"
            ]
          },
          "metadata": {},
          "execution_count": 355
        }
      ]
    },
    {
      "cell_type": "code",
      "source": [
        "emb = C[Xdev] # (32, 3, 2)\n",
        "h = torch.tanh(emb.view(-1, 30) @ W1 + b1) # (32, 100)\n",
        "logits = h @ W2 + b2 # (32, 27)\n",
        "loss = F.cross_entropy(logits, Ydev)\n",
        "loss"
      ],
      "metadata": {
        "colab": {
          "base_uri": "https://localhost:8080/"
        },
        "id": "pOhTU0izLH21",
        "outputId": "f6b25075-a639-460a-e3e5-a8d091cdefed"
      },
      "execution_count": 356,
      "outputs": [
        {
          "output_type": "execute_result",
          "data": {
            "text/plain": [
              "tensor(2.1699, grad_fn=<NllLossBackward0>)"
            ]
          },
          "metadata": {},
          "execution_count": 356
        }
      ]
    },
    {
      "cell_type": "code",
      "source": [
        "plt.figure(figsize=(8, 8))\n",
        "plt.scatter(C[:,0].data, C[:,1].data, s=200)\n",
        "\n",
        "for i in range(C.shape[0]):\n",
        "  plt.text(C[i,0].item(), C[i,1].item(), itos[i], ha=\"center\", va=\"center\", color=\"white\")\n",
        "plt.grid('minor')"
      ],
      "metadata": {
        "colab": {
          "base_uri": "https://localhost:8080/",
          "height": 676
        },
        "id": "bdJfy29uLq_w",
        "outputId": "d96bfb81-454d-4444-af7b-705edb7ae522"
      },
      "execution_count": 357,
      "outputs": [
        {
          "output_type": "display_data",
          "data": {
            "text/plain": [
              "<Figure size 800x800 with 1 Axes>"
            ],
            "image/png": "[encoded data removed]"
          },
          "metadata": {}
        }
      ]
    },
    {
      "cell_type": "markdown",
      "source": [
        "### Sample from the model"
      ],
      "metadata": {
        "id": "Txw4FlKnRUgO"
      }
    },
    {
      "cell_type": "code",
      "source": [
        "g = torch.Generator().manual_seed(2147483647 + 10)\n",
        "\n",
        "for _ in range(20):\n",
        "\n",
        "  out = []\n",
        "  context = [0] * block_size # initialize with all....\n",
        "\n",
        "  while True:\n",
        "    emb = C[torch.tensor([context])] # (1, block_size, d)\n",
        "    h = torch.tanh(emb.view(1, -1) @ W1 + b1)\n",
        "    logits = h @ W2 + b2\n",
        "    probs = F.softmax(logits, dim=1)\n",
        "    ix = torch.multinomial(probs, num_samples=1, generator=g).item()\n",
        "    context = context[1:] + [ix]\n",
        "    out.append(ix)\n",
        "    if ix == 0:\n",
        "      break\n",
        "\n",
        "  print(''.join(itos[i] for i in out))"
      ],
      "metadata": {
        "colab": {
          "base_uri": "https://localhost:8080/"
        },
        "id": "r1UPN8tbRUdK",
        "outputId": "e91480d4-7cec-47f1-84ef-4c6e87f9aac0"
      },
      "execution_count": 359,
      "outputs": [
        {
          "output_type": "stream",
          "name": "stdout",
          "text": [
            "moha.\n",
            "mayah.\n",
            "see.\n",
            "mel.\n",
            "ryah.\n",
            "rethrus.\n",
            "jerneg.\n",
            "adelyn.\n",
            "elin.\n",
            "emilopaleigh.\n",
            "estanar.\n",
            "elle.\n",
            "malkel.\n",
            "noshibergahzanel.\n",
            "janie.\n",
            "jenionnton.\n",
            "foub.\n",
            "macder.\n",
            "yadli.\n",
            "els.\n"
          ]
        }
      ]
    },
    {
      "cell_type": "code",
      "source": [],
      "metadata": {
        "id": "vqWfUwwRRUaT"
      },
      "execution_count": null,
      "outputs": []
    }
  ]
}